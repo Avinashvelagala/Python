{
 "cells": [
  {
   "cell_type": "code",
   "execution_count": 2,
   "metadata": {},
   "outputs": [
    {
     "name": "stdout",
     "output_type": "stream",
     "text": [
      "Enter the name of the customers : shashank\n",
      "Enter the age of the customer : 23\n",
      "Enter the id of the customer : 12\n",
      "Enter the phone number of the customer : 9897315650\n",
      "                                  \n",
      "To add customer press---> 1 \n",
      "To search customer press----> 2 \n",
      "To delete the customer press----> 3 \n",
      "To display all customer press----> 4 \n",
      "To update customer data press----> 5 \n",
      "To exit press----> 0 \n",
      "Enter your choice : 1\n",
      "                                  \n",
      "Enter the name you want to add : sahil\n",
      "Enter his age : 22\n",
      "Enter his id : 13\n",
      "Enter his phone number : 9897879865\n",
      "                                  \n",
      "To add customer press---> 1 \n",
      "To search customer press----> 2 \n",
      "To delete the customer press----> 3 \n",
      "To display all customer press----> 4 \n",
      "To update customer data press----> 5 \n",
      "To exit press----> 0 \n",
      "Enter your choice : 2\n",
      "                                  \n",
      "Enter the name of the customer you want to search : sahil\n",
      "name of the customer is :  sahil\n",
      "age :  22\n",
      "id :  13\n",
      "phone number :  9897879865\n",
      "                                  \n",
      "To add customer press---> 1 \n",
      "To search customer press----> 2 \n",
      "To delete the customer press----> 3 \n",
      "To display all customer press----> 4 \n",
      "To update customer data press----> 5 \n",
      "To exit press----> 0 \n",
      "Enter your choice : 4\n",
      "                                  \n",
      "name of the customer is :  shashank\n",
      "age :  23\n",
      "id :  12\n",
      "phone number :  9897315650\n",
      "                                  \n",
      "name of the customer is :  sahil\n",
      "age :  22\n",
      "id :  13\n",
      "phone number :  9897879865\n",
      "                                  \n",
      "To add customer press---> 1 \n",
      "To search customer press----> 2 \n",
      "To delete the customer press----> 3 \n",
      "To display all customer press----> 4 \n",
      "To update customer data press----> 5 \n",
      "To exit press----> 0 \n",
      "Enter your choice : 5\n",
      "                                  \n",
      "Enter the name whose information you want to update : sahil\n",
      "If you want to update age press-->1\n",
      "            If you want to update id press-->2\n",
      "            If you want to update phone number press-->3\n",
      "                                  \n",
      "Enter your choice1\n",
      "Enter the updated age : 24\n",
      "AGE UPDATED\n",
      "                                  \n",
      "To add customer press---> 1 \n",
      "To search customer press----> 2 \n",
      "To delete the customer press----> 3 \n",
      "To display all customer press----> 4 \n",
      "To update customer data press----> 5 \n",
      "To exit press----> 0 \n",
      "Enter your choice : 0\n",
      "You are now out of the programme\n"
     ]
    }
   ],
   "source": [
    "name=[]\n",
    "age=[]\n",
    "id=[]\n",
    "phone=[]\n",
    "name.append(input(\"Enter the name of the customers : \"))\n",
    "age.append(int(input(\"Enter the age of the customer : \")))\n",
    "id.append(input(\"Enter the id of the customer : \"))\n",
    "phone.append(int(input(\"Enter the phone number of the customer : \")))\n",
    "print(\"                                  \")\n",
    "while(1):\n",
    "    print(\"To add customer press---> 1 \")    \n",
    "    print(\"To search customer press----> 2 \")\n",
    "    print(\"To delete the customer press----> 3 \")\n",
    "    print(\"To display all customer press----> 4 \")\n",
    "    print(\"To update customer data press----> 5 \")\n",
    "    print(\"To exit press----> 0 \")\n",
    "    ch=int(input(\"Enter your choice : \"))\n",
    "    \n",
    "    if ch==1:\n",
    "        print(\"                                  \")\n",
    "        name.append(input(\"Enter the name you want to add : \"))\n",
    "        age.append(int(input(\"Enter his age : \")))\n",
    "        id.append(input(\"Enter his id : \"))\n",
    "        phone.append(int(input(\"Enter his phone number : \")))\n",
    "        print(\"                                  \")\n",
    "        \n",
    "    elif ch==2:\n",
    "        print(\"                                  \")\n",
    "        search=input(\"Enter the name of the customer you want to search : \")\n",
    "        if search in name:\n",
    "            S=name.index(search)\n",
    "            print(\"name of the customer is : \",name[S])\n",
    "            print(\"age : \",age[S])\n",
    "            print(\"id : \",id[S])\n",
    "            print(\"phone number : \",phone[S])\n",
    "            print(\"                                  \")\n",
    "        else:\n",
    "            print(\"The name is not present here \")\n",
    "            print(\"                                  \")\n",
    "            \n",
    "    elif ch==3:\n",
    "        print(\"                                  \")\n",
    "        delete=input(\"Enter the customer you want to delete : \")\n",
    "        if delete in name:\n",
    "            D=name.index(delete)\n",
    "            name.pop(D)\n",
    "            age.pop(D)\n",
    "            id.pop(D)\n",
    "            phone.pop(D)\n",
    "            print(\"Name deleted successfully\")\n",
    "            print(\"                                  \")\n",
    "        else:\n",
    "            print(\"The name is not present here\")\n",
    "            print(\"                                  \")\n",
    "            \n",
    "    elif ch==4:\n",
    "        print(\"                                  \")\n",
    "        DS=len(name)\n",
    "        for i in range(0,len(name)):\n",
    "            print(\"name of the customer is : \",name[i])\n",
    "            print(\"age : \",age[i])\n",
    "            print(\"id : \",id[i])\n",
    "            print(\"phone number : \",phone[i])\n",
    "            print(\"                                  \")\n",
    "        \n",
    "            \n",
    "    elif ch==5:\n",
    "        print(\"                                  \")\n",
    "        update=input(\"Enter the name whose information you want to update : \")\n",
    "        if update in name:\n",
    "            U=name.index(update)\n",
    "            print('''If you want to update age press-->1\n",
    "            If you want to update id press-->2\n",
    "            If you want to update phone number press-->3''')\n",
    "            print(\"                                  \")\n",
    "            CC=int(input(\"Enter your choice\"))\n",
    "            if CC==1:\n",
    "                UA=int(input(\"Enter the updated age : \"))\n",
    "                age.pop(U)\n",
    "                age.insert(U,UA)\n",
    "                print(\"AGE UPDATED\")\n",
    "                print(\"                                  \")\n",
    "            elif CC==2:\n",
    "                UI=input(\"Enter the id you want to update : \")\n",
    "                id.pop(U)\n",
    "                id.insert(U,UI)\n",
    "                print(\"ID UPDATED\")\n",
    "                print(\"                                  \")\n",
    "            elif CC==3:\n",
    "                UP=int(input(\"Enter the phone number you want to update : \"))\n",
    "                phone.pop(U)\n",
    "                phone.insert(U,UP)\n",
    "                print(\"PHONE NUMBER UPDATED \")\n",
    "                print(\"                                  \")\n",
    "            else:\n",
    "                print(\"You have entered the wrong choice\")\n",
    "                print(\"                                  \")\n",
    "        else:\n",
    "            print(\"The name is not present here\")\n",
    "            print(\"                                  \")\n",
    "    elif ch==0:\n",
    "        print(\"You are now out of the programme\")\n",
    "        break\n",
    "    else:\n",
    "        print(\"                                  \")\n",
    "        print(\"Enter the correct choice\")\n",
    "        print(\"                                  \")\n"
   ]
  },
  {
   "cell_type": "code",
   "execution_count": null,
   "metadata": {},
   "outputs": [],
   "source": [
    "Customer management System by using lists\n",
    "1. add a customer\n",
    "2. search for a customer\n",
    "3.delete  a customer\n",
    "4.update the info of a particular customer\n",
    "5. print all customers, user s we will ask pls enter valid id of a customer to search.\n"
   ]
  },
  {
   "cell_type": "code",
   "execution_count": null,
   "metadata": {},
   "outputs": [],
   "source": [
    "1. customers ko add krna h -- \n",
    " name, id,phone number,age\n",
    "Sabse pehle mujhe 4 lists banani h to store the information\n",
    "1. add krna n lists m ,, function name to add in list , append\n",
    "2. to search for a customer, "
   ]
  },
  {
   "cell_type": "code",
   "execution_count": 1,
   "metadata": {},
   "outputs": [
    {
     "name": "stdout",
     "output_type": "stream",
     "text": [
      "1: Add Customer\n",
      "2 :Search Customer \n",
      "3: Delete Customer\n",
      "4: update customer data\n",
      "5: Display all customers\n",
      "6: Exit\n",
      "please enter your choice : 1\n",
      "please enter name sahil\n",
      "please enter id12\n",
      "please enter age23\n",
      "please enter a valid number98765789\n",
      "['sahil']\n",
      "['23']\n",
      "['12']\n",
      "['98765789']\n",
      "values added sucessfully\n",
      "1: Add Customer\n",
      "2 :Search Customer \n",
      "3: Delete Customer\n",
      "4: update customer data\n",
      "5: Display all customers\n",
      "6: Exit\n",
      "please enter your choice : 4\n",
      "Please enter cus ID to update12\n",
      "Please enter new name to updatedeepak\n",
      "Please enter new mobile number98765789\n",
      "Please enter new age of a customer24\n",
      "your list updated sucessfully\n",
      "['deepak']\n",
      "['12']\n",
      "['24']\n",
      "['98765789']\n",
      "1: Add Customer\n",
      "2 :Search Customer \n",
      "3: Delete Customer\n",
      "4: update customer data\n",
      "5: Display all customers\n",
      "6: Exit\n",
      "please enter your choice : 5\n",
      "below is the whole customer data\n",
      "here is a list of names ['deepak']\n",
      "here is a list of ids ['12']\n",
      "here is a list of age of customers ['24']\n",
      "here is a phone_number list ['98765789']\n",
      "1: Add Customer\n",
      "2 :Search Customer \n",
      "3: Delete Customer\n",
      "4: update customer data\n",
      "5: Display all customers\n",
      "6: Exit\n",
      "please enter your choice : 6\n",
      "You are out from the system\n"
     ]
    }
   ],
   "source": [
    "name = []\n",
    "id1 = []\n",
    "phone_no = []\n",
    "age = []\n",
    "while(1):\n",
    "    print(\"1: Add Customer\")\n",
    "    print(\"2 :Search Customer \")\n",
    "    print(\"3: Delete Customer\")\n",
    "    print(\"4: update customer data\")\n",
    "    print(\"5: Display all customers\")\n",
    "    print(\"6: Exit\")\n",
    "    choice =int(input(\"please enter your choice : \"))\n",
    "    if choice == 1:\n",
    "        name1= input(\"please enter name \")\n",
    "        id2= input(\"please enter id\")\n",
    "        age1= input(\"please enter age\")\n",
    "        phone_no1= input(\"please enter a valid number\")\n",
    "        name.append(name1)\n",
    "        id1.append(id2)\n",
    "        age.append(age1)\n",
    "        phone_no.append(phone_no1)\n",
    "        print(name)\n",
    "        print(age)\n",
    "        print(id1)\n",
    "        print(phone_no)\n",
    "        print(\"values added sucessfully\")\n",
    "    if choice == 2:\n",
    "        idd = input(\"\\nplease enter customer id to search your data\" )\n",
    "        for i in id1:\n",
    "            if(i==idd):\n",
    "                print(\"below is the search result\")\n",
    "                b = id1.index(idd)\n",
    "                print(b)\n",
    "                print(name[b])\n",
    "                print(id1[b])\n",
    "                print(age[b])\n",
    "                print(phone_no[b])\n",
    "            else:\n",
    "                 print(\"customer id not found\")\n",
    "    if choice == 3:\n",
    "            idd = input(\"\\nplease enter customer id to delete your data\" )\n",
    "            for i in id1:\n",
    "                if(i==idd):\n",
    "                    #print(\"below is the search result\")\n",
    "                    b = id1.index(idd)\n",
    "                    name.remove(name[b])\n",
    "                    id1.remove(id1[b])\n",
    "                    age.remove(age[b])\n",
    "                    phone_no.remove(phone_no[b])\n",
    "                    print(\"Data of customer is been deleted sucessfully\")\n",
    "                else:\n",
    "                    print(\"ID not exists\")\n",
    "    if choice == 4:#update\n",
    "        idd = input(\"Please enter cus ID to update\")\n",
    "        for i in id1:\n",
    "            if(i == idd):\n",
    "                b = id1.index(idd)\n",
    "                new_name = input(\"Please enter new name to update\")\n",
    "                new_mob = input(\"Please enter new mobile number\")\n",
    "                new_age = input(\"Please enter new age of a customer\")\n",
    "                name[b] = new_name\n",
    "                phone_no[b] = new_mob\n",
    "                age[b] = new_age\n",
    "                print(\"your list updated sucessfully\")\n",
    "                print(name)\n",
    "                print(id1)\n",
    "                print(age)\n",
    "                print(phone_no)\n",
    "            else:\n",
    "                print(\"id not found\")\n",
    "    if choice == 5:\n",
    "        print(\"below is the whole customer data\")\n",
    "        print(\"here is a list of names\" ,name)\n",
    "        print(\"here is a list of ids\" ,id1)\n",
    "        print(\"here is a list of age of customers\",age)\n",
    "        print(\"here is a phone_number list\",phone_no)\n",
    "    if choice == 6:\n",
    "        print(\"You are out from the system\")\n",
    "        break\n",
    "        "
   ]
  },
  {
   "cell_type": "code",
   "execution_count": null,
   "metadata": {},
   "outputs": [],
   "source": [
    "Python strings methods:\n"
   ]
  },
  {
   "cell_type": "code",
   "execution_count": 3,
   "metadata": {},
   "outputs": [],
   "source": [
    "a = \"cetpa\""
   ]
  },
  {
   "cell_type": "code",
   "execution_count": 4,
   "metadata": {},
   "outputs": [
    {
     "data": {
      "text/plain": [
       "'Cetpa'"
      ]
     },
     "execution_count": 4,
     "metadata": {},
     "output_type": "execute_result"
    }
   ],
   "source": [
    "a.capitalize()"
   ]
  },
  {
   "cell_type": "code",
   "execution_count": 5,
   "metadata": {},
   "outputs": [],
   "source": [
    "b = \"CETPA\""
   ]
  },
  {
   "cell_type": "code",
   "execution_count": 6,
   "metadata": {},
   "outputs": [
    {
     "data": {
      "text/plain": [
       "False"
      ]
     },
     "execution_count": 6,
     "metadata": {},
     "output_type": "execute_result"
    }
   ],
   "source": [
    "b.islower()"
   ]
  },
  {
   "cell_type": "code",
   "execution_count": 7,
   "metadata": {},
   "outputs": [
    {
     "data": {
      "text/plain": [
       "'cetpa'"
      ]
     },
     "execution_count": 7,
     "metadata": {},
     "output_type": "execute_result"
    }
   ],
   "source": [
    "b.lower()"
   ]
  },
  {
   "cell_type": "code",
   "execution_count": 16,
   "metadata": {},
   "outputs": [],
   "source": [
    "b = \"i love apple, i also like mango but apple is my fav\""
   ]
  },
  {
   "cell_type": "code",
   "execution_count": 17,
   "metadata": {},
   "outputs": [],
   "source": [
    "x = b.count(\"apple\")"
   ]
  },
  {
   "cell_type": "code",
   "execution_count": 18,
   "metadata": {},
   "outputs": [
    {
     "data": {
      "text/plain": [
       "2"
      ]
     },
     "execution_count": 18,
     "metadata": {},
     "output_type": "execute_result"
    }
   ],
   "source": [
    "x"
   ]
  },
  {
   "cell_type": "code",
   "execution_count": null,
   "metadata": {},
   "outputs": [],
   "source": []
  }
 ],
 "metadata": {
  "kernelspec": {
   "display_name": "Python 3",
   "language": "python",
   "name": "python3"
  },
  "language_info": {
   "codemirror_mode": {
    "name": "ipython",
    "version": 3
   },
   "file_extension": ".py",
   "mimetype": "text/x-python",
   "name": "python",
   "nbconvert_exporter": "python",
   "pygments_lexer": "ipython3",
   "version": "3.7.1"
  }
 },
 "nbformat": 4,
 "nbformat_minor": 2
}
