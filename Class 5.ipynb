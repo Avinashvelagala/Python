{
 "cells": [
  {
   "cell_type": "markdown",
   "metadata": {},
   "source": [
    "Yesterday we were disussing conditinal statements in python \n",
    "We already learnt \n",
    "if (c0ndition)\n",
    "if- else\n",
    "if- else in one line."
   ]
  },
  {
   "cell_type": "code",
   "execution_count": null,
   "metadata": {},
   "outputs": [],
   "source": [
    "If-elif-else block in python:\n",
    "The if-elif else is used when we need to heck multiple conditions:\n",
    "Syntax:\n",
    "    if condition:\n",
    "        print(\"code inside if\")\n",
    "    elif:\n",
    "        print(\"code inside elif\")\n",
    "    else :\n",
    "        print(\"code inside else\")"
   ]
  },
  {
   "cell_type": "markdown",
   "metadata": {},
   "source": [
    "Many real words situations involves multiple comditions:\n",
    "    Consider an amusement park that charges Different rates for different age group.\n",
    "    age < 4 : No charge\n",
    "    age is between 4 and 18 : charge is 5 $\n",
    "    age is more than 18 : charge is 18$\n",
    "    senior citizens having age more than 70 yeras\n",
    "        Charges for them is 8$"
   ]
  },
  {
   "cell_type": "code",
   "execution_count": null,
   "metadata": {},
   "outputs": [],
   "source": [
    "We can have n number of elifs in our block of code but only one else."
   ]
  },
  {
   "cell_type": "code",
   "execution_count": 9,
   "metadata": {},
   "outputs": [
    {
     "name": "stdout",
     "output_type": "stream",
     "text": [
      "Please Enter your age : 87\n",
      "You Got a Discount so you have to pay 8$\n"
     ]
    }
   ],
   "source": [
    "age = int(input(\"Please Enter your age : \"))\n",
    "if age < 4:\n",
    "    print(\"Whoa!! No charges for you\")\n",
    "elif age < 18:\n",
    "    print(\"Please pay $5\")\n",
    "elif age > 70:\n",
    "    print(\"You Got a Discount so you have to pay 8$\")\n",
    "else:\n",
    "    print(\"You have to pay 10$\")"
   ]
  },
  {
   "cell_type": "code",
   "execution_count": null,
   "metadata": {},
   "outputs": [],
   "source": [
    "Task1: WAP to find the largest among Three numbers.\n",
    "Input a : 6 , b : 7 , c: 5\n",
    "output 7"
   ]
  },
  {
   "cell_type": "code",
   "execution_count": null,
   "metadata": {},
   "outputs": [],
   "source": [
    "step1: take three numbers as input from user.\n",
    "When your number1 is largest?\n",
    "num1> num2 and num1>num3\n",
    "print(num1 is largest)\n",
    "when your number 2 is largest?\n",
    "num2>num1 and num2>num3\n",
    "print(num2 is largest)\n",
    "else num3 is largest"
   ]
  },
  {
   "cell_type": "code",
   "execution_count": 8,
   "metadata": {},
   "outputs": [
    {
     "name": "stdout",
     "output_type": "stream",
     "text": [
      "Please Enter first number 6\n",
      "Please Enter Second Number 7\n",
      "Please Enter Third Number 4\n",
      "Second number is largest 7\n"
     ]
    }
   ],
   "source": [
    "num1 = int(input(\"Please Enter first number \"))\n",
    "num2 = int(input(\"Please Enter Second Number \"))\n",
    "num3 = int(input(\"Please Enter Third Number \"))\n",
    "if num1>num2 and num1>num3:\n",
    "    print(\"first number is largest\" , num1)\n",
    "elif num2>num1 and num2>num3:\n",
    "    print(\"Second number is largest\" , num2)\n",
    "else:\n",
    "    print(\"Third number is largest\" , num3)"
   ]
  },
  {
   "cell_type": "code",
   "execution_count": null,
   "metadata": {},
   "outputs": [],
   "source": [
    "HW1: You have to the smallest number among three\n",
    "HW2 : You have to print middle number among Three."
   ]
  },
  {
   "cell_type": "markdown",
   "metadata": {},
   "source": [
    "# Lists"
   ]
  },
  {
   "cell_type": "code",
   "execution_count": null,
   "metadata": {},
   "outputs": [],
   "source": [
    "IN English language lists are considered as collection of items.\n",
    "YOu need to shopping - To make a list of items you have to Buy.\n",
    "In PYTHON: List is a most versatile datatype available wehich can be written as a list of comma seperated values\n",
    "    (items)  between square Brackets.\n",
    "2. Items or values in a list need not be of same datatype\n",
    "3. Duplicate items are allowed.\n",
    "5. It is modifiable."
   ]
  },
  {
   "cell_type": "code",
   "execution_count": 10,
   "metadata": {},
   "outputs": [],
   "source": [
    "list1 = [\"a\",2.5,1,True,\"cetpa\",\"a\"]"
   ]
  },
  {
   "cell_type": "code",
   "execution_count": 11,
   "metadata": {},
   "outputs": [
    {
     "data": {
      "text/plain": [
       "list"
      ]
     },
     "execution_count": 11,
     "metadata": {},
     "output_type": "execute_result"
    }
   ],
   "source": [
    "type(list1)"
   ]
  },
  {
   "cell_type": "code",
   "execution_count": 12,
   "metadata": {},
   "outputs": [
    {
     "data": {
      "text/plain": [
       "['a', 2.5, 1, True, 'cetpa', 'a']"
      ]
     },
     "execution_count": 12,
     "metadata": {},
     "output_type": "execute_result"
    }
   ],
   "source": [
    "list1"
   ]
  },
  {
   "cell_type": "code",
   "execution_count": null,
   "metadata": {},
   "outputs": [],
   "source": []
  }
 ],
 "metadata": {
  "kernelspec": {
   "display_name": "Python 3",
   "language": "python",
   "name": "python3"
  },
  "language_info": {
   "codemirror_mode": {
    "name": "ipython",
    "version": 3
   },
   "file_extension": ".py",
   "mimetype": "text/x-python",
   "name": "python",
   "nbconvert_exporter": "python",
   "pygments_lexer": "ipython3",
   "version": "3.7.1"
  }
 },
 "nbformat": 4,
 "nbformat_minor": 2
}
