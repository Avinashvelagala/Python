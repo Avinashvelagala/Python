{
 "cells": [
  {
   "cell_type": "markdown",
   "metadata": {},
   "source": [
    "# Classes"
   ]
  },
  {
   "cell_type": "code",
   "execution_count": null,
   "metadata": {},
   "outputs": [],
   "source": [
    "Python is an object-oriented programming.\n",
    "Object -- is any real world entity.\n"
   ]
  },
  {
   "cell_type": "code",
   "execution_count": null,
   "metadata": {},
   "outputs": [],
   "source": [
    "Class - is a user-defined datatype.\n",
    "A class is a blueprint or template from which specific objects are created."
   ]
  },
  {
   "cell_type": "code",
   "execution_count": 1,
   "metadata": {},
   "outputs": [],
   "source": [
    "class employee():\n",
    "    pass\n"
   ]
  },
  {
   "cell_type": "code",
   "execution_count": null,
   "metadata": {},
   "outputs": [],
   "source": [
    "Making an object inside an class or from an class is called instantiation."
   ]
  },
  {
   "cell_type": "code",
   "execution_count": 2,
   "metadata": {},
   "outputs": [],
   "source": [
    "emp1 = employee()"
   ]
  },
  {
   "cell_type": "code",
   "execution_count": 3,
   "metadata": {},
   "outputs": [
    {
     "data": {
      "text/plain": [
       "<__main__.employee at 0x1c34e3d4780>"
      ]
     },
     "execution_count": 3,
     "metadata": {},
     "output_type": "execute_result"
    }
   ],
   "source": [
    "emp1"
   ]
  },
  {
   "cell_type": "code",
   "execution_count": 4,
   "metadata": {},
   "outputs": [],
   "source": [
    "emp2 = employee()"
   ]
  },
  {
   "cell_type": "code",
   "execution_count": 5,
   "metadata": {},
   "outputs": [],
   "source": [
    "emp1.name = \"shashank\"\n",
    "emp1.age = 25\n",
    "emp1.sal = 75000"
   ]
  },
  {
   "cell_type": "code",
   "execution_count": null,
   "metadata": {},
   "outputs": [],
   "source": [
    "Here name,age and sal are variables associated with instances."
   ]
  },
  {
   "cell_type": "code",
   "execution_count": 6,
   "metadata": {},
   "outputs": [
    {
     "data": {
      "text/plain": [
       "'shashank'"
      ]
     },
     "execution_count": 6,
     "metadata": {},
     "output_type": "execute_result"
    }
   ],
   "source": [
    "emp1.name"
   ]
  },
  {
   "cell_type": "code",
   "execution_count": 8,
   "metadata": {},
   "outputs": [
    {
     "data": {
      "text/plain": [
       "75000"
      ]
     },
     "execution_count": 8,
     "metadata": {},
     "output_type": "execute_result"
    }
   ],
   "source": [
    "emp1.sal"
   ]
  },
  {
   "cell_type": "code",
   "execution_count": null,
   "metadata": {},
   "outputs": [],
   "source": [
    "Understanding OOps will help you to see the world as a programmer does. It will help you to\n",
    "know your code,not just what is happenning line by line but also the bigger concepts behind it."
   ]
  },
  {
   "cell_type": "code",
   "execution_count": null,
   "metadata": {},
   "outputs": [],
   "source": [
    "Now we will learn how to use same instance variable for multiple instances --- in other programming languages we have a \n",
    "concept of constructors and in python we have a reserved method known __init__"
   ]
  },
  {
   "cell_type": "code",
   "execution_count": null,
   "metadata": {},
   "outputs": [],
   "source": [
    "we know functions --- def()\n",
    "functions inside classes is known as methods."
   ]
  },
  {
   "cell_type": "code",
   "execution_count": 1,
   "metadata": {},
   "outputs": [],
   "source": [
    "class employee():\n",
    "    def __init__(self,name,age,sal):\n",
    "        self.name = name\n",
    "        self.age = age\n",
    "        self.sal = sal\n",
    "emp1 = employee(\"raj\",51,59000)\n",
    "    "
   ]
  },
  {
   "cell_type": "code",
   "execution_count": 2,
   "metadata": {},
   "outputs": [
    {
     "data": {
      "text/plain": [
       "'raj'"
      ]
     },
     "execution_count": 2,
     "metadata": {},
     "output_type": "execute_result"
    }
   ],
   "source": [
    "emp1.name"
   ]
  },
  {
   "cell_type": "code",
   "execution_count": null,
   "metadata": {},
   "outputs": [],
   "source": [
    "__init__ is a initializer method of the class that executes firsts as soon as the object is created."
   ]
  },
  {
   "cell_type": "code",
   "execution_count": null,
   "metadata": {},
   "outputs": [],
   "source": [
    "koi bhi method hum class create karege to uska pehla attribute self hoga ,python m."
   ]
  },
  {
   "cell_type": "code",
   "execution_count": 10,
   "metadata": {},
   "outputs": [],
   "source": [
    "class Parrot:\n",
    "    def __init__(self,name,age):\n",
    "        self.name = name\n",
    "        self.age = age\n",
    "    def sing(self,song):\n",
    "        return \"{} is now singing {}\".format(self.name,song)\n",
    "    def dance(self):\n",
    "        return \"{} is now dancing\".format(self.name)\n",
    "    \n",
    "        "
   ]
  },
  {
   "cell_type": "code",
   "execution_count": 11,
   "metadata": {},
   "outputs": [],
   "source": [
    "#instantiate class by using object.\n",
    "blu = Parrot(\"jack\",5)"
   ]
  },
  {
   "cell_type": "code",
   "execution_count": 12,
   "metadata": {},
   "outputs": [
    {
     "name": "stdout",
     "output_type": "stream",
     "text": [
      "jack is now singing shape of you\n",
      "jack is now dancing\n"
     ]
    }
   ],
   "source": [
    "#to call instance method\n",
    "print(blu.sing(\"shape of you\"))\n",
    "print(blu.dance())"
   ]
  },
  {
   "cell_type": "code",
   "execution_count": 17,
   "metadata": {},
   "outputs": [],
   "source": [
    "class Email:\n",
    "    def __init__(self):\n",
    "        self.is_sent = True\n",
    "    def send_email(self):\n",
    "        self.is_sent = False\n",
    "        "
   ]
  },
  {
   "cell_type": "code",
   "execution_count": 18,
   "metadata": {},
   "outputs": [],
   "source": [
    "my_email = Email()#yha parenthesis important h"
   ]
  },
  {
   "cell_type": "code",
   "execution_count": 19,
   "metadata": {},
   "outputs": [
    {
     "data": {
      "text/plain": [
       "True"
      ]
     },
     "execution_count": 19,
     "metadata": {},
     "output_type": "execute_result"
    }
   ],
   "source": [
    "my_email.is_sent"
   ]
  },
  {
   "cell_type": "code",
   "execution_count": 20,
   "metadata": {},
   "outputs": [],
   "source": [
    "my_email.send_email()"
   ]
  },
  {
   "cell_type": "code",
   "execution_count": 22,
   "metadata": {},
   "outputs": [
    {
     "data": {
      "text/plain": [
       "False"
      ]
     },
     "execution_count": 22,
     "metadata": {},
     "output_type": "execute_result"
    }
   ],
   "source": [
    "my_email.is_sent"
   ]
  },
  {
   "cell_type": "code",
   "execution_count": null,
   "metadata": {},
   "outputs": [],
   "source": [
    "First argument of every method is always self.\n",
    "The self-argument refers to the object itself.hence it is known as \"self\"\n",
    "So inside the method , self will refer to the specific instance instance of the object that being operated on.\n"
   ]
  },
  {
   "cell_type": "code",
   "execution_count": null,
   "metadata": {},
   "outputs": [],
   "source": [
    "class, object,method,instance, argument,self and __init__\n",
    "method --- function inside a class is known as method.\n",
    "Now we talk about first concept of object oriented programming which is known as Inheritance:\n",
    "Inheritance : \n",
    "Inheritance is a feature used in oops or iska mtlb hota h grehn krna koi bhi property yea gun apne parens  se.\n",
    "it refers to defining a new class with less or no modifications to an existing class.\n",
    "The new class known as derived class and from which it inherits is called the base class or parent class.\n",
    "\n",
    "\n",
    "\n",
    "\n",
    "\n",
    "\n",
    "\n",
    "\n",
    "\n"
   ]
  },
  {
   "cell_type": "code",
   "execution_count": 30,
   "metadata": {},
   "outputs": [
    {
     "name": "stdout",
     "output_type": "stream",
     "text": [
      "Bird is ready..\n",
      "penguin is ready..\n",
      "Bird\n",
      "Penguin\n",
      "swim faster\n",
      "run faster\n"
     ]
    }
   ],
   "source": [
    "class Bird:#Base Class\n",
    "    def __init__(self):\n",
    "        print(\"Bird is ready..\")\n",
    "    def whoisthis(self):\n",
    "        print(\"Bird\")\n",
    "    def swim(self):\n",
    "        print('swim faster')\n",
    "class Penguin(Bird):\n",
    "    def __init__(self):\n",
    "        #call super() function\n",
    "        super().__init__() #ye wali ki help s hum apni parent class k constructor or \n",
    "        #method ko call kr rhe h.\n",
    "        print(\"penguin is ready..\")\n",
    "    def whoisthis(self):\n",
    "        super().whoisthis()\n",
    "        print(\"Penguin\")\n",
    "    \n",
    "    def run(self):\n",
    "        print('run faster')\n",
    "peggy = Penguin()\n",
    "peggy.whoisthis()\n",
    "peggy.swim()#swim parent class ka method h jisko hume child class k object s\n",
    "#call kr lia h iska mtlb inheritence is working fine.\n",
    "peggy.run()\n",
    "        \n",
    "        \n",
    "        \n",
    "        \n",
    "        \n",
    "        \n",
    "        \n",
    "        \n",
    "    "
   ]
  },
  {
   "cell_type": "code",
   "execution_count": null,
   "metadata": {},
   "outputs": [],
   "source": [
    "In this program, we created two classes Bird(Parent class) and Penguin(Child class)\n",
    "The child class inherits the function of parent class and we can see this---\n",
    "as we can call a swim() of bird class by using an object of penguin class.\n",
    "We also used super() function inside the __init__ and whoisthis(), and this allows\n",
    "us to run __init__ and whoisthis() of parent class inside the child class."
   ]
  },
  {
   "cell_type": "code",
   "execution_count": null,
   "metadata": {},
   "outputs": [],
   "source": [
    "Single inheritance matlab sirf ek parent class hona yea fir ek hee class se features inherit krna.\n",
    "single parent ------- single inheritance\n",
    "multiple parents ------ multiple inheritance."
   ]
  },
  {
   "cell_type": "code",
   "execution_count": 13,
   "metadata": {},
   "outputs": [
    {
     "name": "stdout",
     "output_type": "stream",
     "text": [
      "My Father is : john\n",
      "My Mother is : jenny\n"
     ]
    }
   ],
   "source": [
    "#Multiple Inheritance\n",
    "class Mother:#Base class1\n",
    "    mother_name = \" \"\n",
    "    def mother(self):\n",
    "        print(self.mother_name)\n",
    "        print(self.father_name)\n",
    "class Father:#Base class2\n",
    "    father_name = \" \"\n",
    "    def father(self):\n",
    "        print(self.father_name)\n",
    "#Derived class\n",
    "class Son1(Mother,Father):\n",
    "    def parents(self):\n",
    "        print(\"My Father is :\" , self.father_name)\n",
    "        print(\"My Mother is :\" , self.mother_name)\n",
    "        \n",
    "        \n",
    "s = Son1()\n",
    "s.father_name = \"john\"\n",
    "s.mother_name = \"jenny\"\n",
    "s.parents()\n",
    "#in python we do not have concept of private,public or protected class therefore we can assigh a value\n",
    "#to any instance of any class but that is something against the rule of programming convention.\n",
    "\n",
    "        \n",
    "        \n",
    "        \n",
    "        \n",
    "        \n",
    "        \n",
    "        \n",
    "        \n",
    "        \n",
    "        "
   ]
  },
  {
   "cell_type": "code",
   "execution_count": 16,
   "metadata": {},
   "outputs": [
    {
     "name": "stdout",
     "output_type": "stream",
     "text": [
      "my grandfather name is : Alexandar\n",
      "my father name is:  john\n"
     ]
    }
   ],
   "source": [
    "#Multilevel Inheritance.\n",
    "class GrandFather:#Base class\n",
    "    grandfathername = \"\"\n",
    "    def grandfather(self):\n",
    "        print(self.grandfather)\n",
    "        \n",
    "#Intermediate class\n",
    "class Father():\n",
    "    fathername = \"\"\n",
    "    def father(self):\n",
    "        print(self.fathername)#\n",
    "#Derived calss\n",
    "class Son(Father):\n",
    "    def parent(self):\n",
    "        print(\"my grandfather name is :\" , self.grandfathername)\n",
    "        print(\"my father name is: \" , self.fathername)\n",
    "s = Son()\n",
    "s.grandfathername = \"Alexandar\"\n",
    "s.fathername = \"john\"\n",
    "s.parent()\n",
    "\n",
    "        \n",
    "        \n",
    "        \n",
    "        \n",
    "        \n",
    "        \n",
    "        \n",
    "        \n",
    "        \n",
    "        "
   ]
  },
  {
   "cell_type": "code",
   "execution_count": 20,
   "metadata": {},
   "outputs": [
    {
     "name": "stdout",
     "output_type": "stream",
     "text": [
      "This is function 1\n",
      "This is function 2\n"
     ]
    }
   ],
   "source": [
    "#Hierarchical inheritance\n",
    "class Parent:\n",
    "    def func1(self):\n",
    "        print(\"This is function 1\")\n",
    "class child(Parent):\n",
    "    def func2(self):\n",
    "        print(\"This is function 2\")\n",
    "class child2(Parent):\n",
    "    def func3(self):\n",
    "        print(\"This is function 3\")\n",
    "ob = child()\n",
    "ob1 = child2()\n",
    "ob.func1()\n",
    "ob.func2()"
   ]
  },
  {
   "cell_type": "code",
   "execution_count": 23,
   "metadata": {},
   "outputs": [
    {
     "name": "stdout",
     "output_type": "stream",
     "text": [
      "This is child function\n"
     ]
    }
   ],
   "source": [
    "#Method overiding\n",
    "class Parent:\n",
    "    def func1(self):\n",
    "        print(\"This is my parent function\")\n",
    "        \n",
    "class child(Parent):\n",
    "    def func1(self):\n",
    "        print(\"This is child function\")\n",
    "ob = child()\n",
    "ob.func1()\n",
    "#In this code the functaionality of parent class method changes by overriding the same method\n",
    "#in the child class.\n",
    "    \n",
    "    \n",
    "    \n",
    "    \n",
    "    \n",
    "    \n",
    "    \n",
    "    "
   ]
  },
  {
   "cell_type": "code",
   "execution_count": null,
   "metadata": {},
   "outputs": [],
   "source": [
    "How to check if a class is subclass of other?"
   ]
  },
  {
   "cell_type": "code",
   "execution_count": 26,
   "metadata": {},
   "outputs": [
    {
     "name": "stdout",
     "output_type": "stream",
     "text": [
      "True\n",
      "False\n",
      "False\n",
      "True\n"
     ]
    }
   ],
   "source": [
    "class Base:\n",
    "    pass\n",
    "class Derived(Base):\n",
    "    pass\n",
    "#Return whether 'cls' is a derived from another class or is the same class.\n",
    "print(issubclass(Derived,Base))#pehla argument jon si class ko class ko check krna h\n",
    "#ki wo subclass h ya nhi.\n",
    "print(issubclass(Base,Derived))\n",
    "d = Derived()\n",
    "b = Base()\n",
    "#Return whether an object is an instance of a class or of a subclass thereof.\n",
    "print(isinstance(b,Derived))\n",
    "print(isinstance(d,Base))\n",
    "#so we know ki child class k object s hum parent class k\n",
    "#attributes ko call kr sakte h islie last wali line(line no 13) ka output true aaya h.\n",
    "#or line no 12 ka false islie h qki b parent class ka object h\n",
    "\n",
    "\n",
    "\n",
    "\n"
   ]
  },
  {
   "cell_type": "code",
   "execution_count": 27,
   "metadata": {},
   "outputs": [
    {
     "name": "stdout",
     "output_type": "stream",
     "text": [
      "4\n",
      "8\n",
      "24\n"
     ]
    }
   ],
   "source": [
    "#Exercises:\n",
    "class X(object):\n",
    "    def __init__(self,a):\n",
    "        self.num = a\n",
    "    def doubleup(self):\n",
    "        self.num *=2\n",
    "class Y(X):\n",
    "    def __init__(self,a):\n",
    "        X.__init__(self,a)\n",
    "    def tripleup(self):\n",
    "        self.num *=3\n",
    "obj = Y(4)\n",
    "print(obj.num)\n",
    "\n",
    "obj.doubleup()\n",
    "print(obj.num)\n",
    "\n",
    "obj.tripleup()\n",
    "print(obj.num)"
   ]
  },
  {
   "cell_type": "code",
   "execution_count": 32,
   "metadata": {},
   "outputs": [],
   "source": [
    "class Polygon:\n",
    "    def __init__(self,no_sides):\n",
    "        self.n = no_sides\n",
    "        self.sides = [0 for i in range(no_sides)]\n",
    "    def inputsides(self):\n",
    "        self.sides = [float(input(\"Enter side\" +str(i+1)+ \" :\")) for i in range(self.n)]\n",
    "    def dispsides(self):\n",
    "        for i in range(self.n):\n",
    "            print(\"side\" , i+1,\"is\",self.sides[i])\n",
    "#The class has data attribute to store the number of sides n and magnitude of each side as a list called sides.\n",
    "#inputsides() methods takes in the magnitude of each side and dispslides displays these side lenghts.\n",
    "        \n",
    "        \n",
    "        "
   ]
  },
  {
   "cell_type": "code",
   "execution_count": 35,
   "metadata": {},
   "outputs": [],
   "source": [
    "class Triangle(Polygon):\n",
    "    def __init__(self):\n",
    "        Polygon.__init__(self,3)\n",
    "        \n",
    "    def findArea(self):\n",
    "        a,b,c = self.sides\n",
    "        s = (a+b+c)/2\n",
    "        area = (s*(s-a)*(s-b)*(s-c)) ** 0.5\n",
    "        print(\"Area of the triangle is \" , area)"
   ]
  },
  {
   "cell_type": "code",
   "execution_count": 36,
   "metadata": {},
   "outputs": [
    {
     "name": "stdout",
     "output_type": "stream",
     "text": [
      "Enter side1 :3\n",
      "Enter side2 :5\n",
      "Enter side3 :4\n"
     ]
    }
   ],
   "source": [
    "t = Triangle()\n",
    "t.inputsides()"
   ]
  },
  {
   "cell_type": "code",
   "execution_count": 37,
   "metadata": {},
   "outputs": [
    {
     "name": "stdout",
     "output_type": "stream",
     "text": [
      "side 1 is 3.0\n",
      "side 2 is 5.0\n",
      "side 3 is 4.0\n"
     ]
    }
   ],
   "source": [
    "t.dispsides()"
   ]
  },
  {
   "cell_type": "code",
   "execution_count": 38,
   "metadata": {},
   "outputs": [
    {
     "name": "stdout",
     "output_type": "stream",
     "text": [
      "Area of the triangle is  6.0\n"
     ]
    }
   ],
   "source": [
    "t.findArea()"
   ]
  },
  {
   "cell_type": "code",
   "execution_count": null,
   "metadata": {},
   "outputs": [],
   "source": [
    "As we can see above we used the methods input sides and dispsides of polygon class by an object of object of triangle class\n",
    "and compute its area.\n",
    "Task: similarly write a python class to compute area of square,rectange and circle."
   ]
  }
 ],
 "metadata": {
  "kernelspec": {
   "display_name": "Python 3",
   "language": "python",
   "name": "python3"
  },
  "language_info": {
   "codemirror_mode": {
    "name": "ipython",
    "version": 3
   },
   "file_extension": ".py",
   "mimetype": "text/x-python",
   "name": "python",
   "nbconvert_exporter": "python",
   "pygments_lexer": "ipython3",
   "version": "3.7.1"
  }
 },
 "nbformat": 4,
 "nbformat_minor": 2
}
