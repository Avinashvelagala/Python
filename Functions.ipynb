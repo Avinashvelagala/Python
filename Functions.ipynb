{
  "nbformat": 4,
  "nbformat_minor": 0,
  "metadata": {
    "colab": {
      "name": "Functions.ipynb",
      "provenance": [],
      "authorship_tag": "ABX9TyPz/oKlnMWEF4kMacyb2IKQ",
      "include_colab_link": true
    },
    "kernelspec": {
      "name": "python3",
      "display_name": "Python 3"
    }
  },
  "cells": [
    {
      "cell_type": "markdown",
      "metadata": {
        "id": "view-in-github",
        "colab_type": "text"
      },
      "source": [
        "<a href=\"https://colab.research.google.com/github/imsakshi/Python/blob/master/Functions.ipynb\" target=\"_parent\"><img src=\"https://colab.research.google.com/assets/colab-badge.svg\" alt=\"Open In Colab\"/></a>"
      ]
    },
    {
      "cell_type": "code",
      "metadata": {
        "id": "LBFRG8b4DyoK",
        "colab_type": "code",
        "colab": {}
      },
      "source": [
        "Functions - python block of code, reusability."
      ],
      "execution_count": 0,
      "outputs": []
    },
    {
      "cell_type": "markdown",
      "metadata": {
        "id": "7yY35pN3F6AG",
        "colab_type": "text"
      },
      "source": [
        "in functions we use two terma interchangeably.\n",
        "**Parameters and arguments**"
      ]
    },
    {
      "cell_type": "code",
      "metadata": {
        "id": "UsJJ7eUZGDgB",
        "colab_type": "code",
        "colab": {}
      },
      "source": [
        "def add(a,b):  #here a and b parameters\n",
        "  c = a  + b\n",
        "  return c"
      ],
      "execution_count": 0,
      "outputs": []
    },
    {
      "cell_type": "code",
      "metadata": {
        "id": "LttAWmUrGTlo",
        "colab_type": "code",
        "colab": {
          "base_uri": "https://localhost:8080/",
          "height": 34
        },
        "outputId": "c9e08600-c706-4a82-e35f-a8bdea0d6f74"
      },
      "source": [
        "add(2,3) # a = 2 , b = 3 , argument #positional argument."
      ],
      "execution_count": 3,
      "outputs": [
        {
          "output_type": "execute_result",
          "data": {
            "text/plain": [
              "5"
            ]
          },
          "metadata": {
            "tags": []
          },
          "execution_count": 3
        }
      ]
    },
    {
      "cell_type": "code",
      "metadata": {
        "id": "-WF4wH87GiLf",
        "colab_type": "code",
        "colab": {
          "base_uri": "https://localhost:8080/",
          "height": 34
        },
        "outputId": "d1b50811-918b-4eca-a376-09efd08ab815"
      },
      "source": [
        "add(b = 3, a = 7)"
      ],
      "execution_count": 4,
      "outputs": [
        {
          "output_type": "execute_result",
          "data": {
            "text/plain": [
              "10"
            ]
          },
          "metadata": {
            "tags": []
          },
          "execution_count": 4
        }
      ]
    },
    {
      "cell_type": "code",
      "metadata": {
        "id": "FJV-emaAGvxA",
        "colab_type": "code",
        "colab": {}
      },
      "source": [
        "#suppose you have 10 numbers. we use a concept of passing variable length argument."
      ],
      "execution_count": 0,
      "outputs": []
    },
    {
      "cell_type": "code",
      "metadata": {
        "id": "gaySPPOjHTbQ",
        "colab_type": "code",
        "colab": {}
      },
      "source": [
        "def my_sum(*a):\n",
        "  return sum(a)"
      ],
      "execution_count": 0,
      "outputs": []
    },
    {
      "cell_type": "code",
      "metadata": {
        "id": "QgO5NdKLH6wY",
        "colab_type": "code",
        "colab": {
          "base_uri": "https://localhost:8080/",
          "height": 34
        },
        "outputId": "d57d310d-4987-4316-de41-2b4b9783ad02"
      },
      "source": [
        "my_sum(1,2,3,4,5,6)"
      ],
      "execution_count": 6,
      "outputs": [
        {
          "output_type": "execute_result",
          "data": {
            "text/plain": [
              "21"
            ]
          },
          "metadata": {
            "tags": []
          },
          "execution_count": 6
        }
      ]
    },
    {
      "cell_type": "code",
      "metadata": {
        "id": "5cxVrVJ9IMeo",
        "colab_type": "code",
        "colab": {}
      },
      "source": [
        "#find the average\n",
        "def mean(*num):\n",
        "  return (sum(num)/num)"
      ],
      "execution_count": 0,
      "outputs": []
    },
    {
      "cell_type": "markdown",
      "metadata": {
        "id": "hNzyipcjHcOl",
        "colab_type": "text"
      },
      "source": [
        "Python recieves multiple argument *args and is known as variable length argument."
      ]
    },
    {
      "cell_type": "code",
      "metadata": {
        "id": "wCFTHezRJmsn",
        "colab_type": "code",
        "colab": {}
      },
      "source": [
        "def my_func(*kids):\n",
        "  print(\"The youngest child is\", kids[2])"
      ],
      "execution_count": 0,
      "outputs": []
    },
    {
      "cell_type": "code",
      "metadata": {
        "id": "1xS7OOaeJ0iK",
        "colab_type": "code",
        "colab": {
          "base_uri": "https://localhost:8080/",
          "height": 34
        },
        "outputId": "4745e52b-7c12-44b5-c4c1-a69b67fc4dd3"
      },
      "source": [
        "my_func(\"joy\",\"fairy\",\"ales\")"
      ],
      "execution_count": 10,
      "outputs": [
        {
          "output_type": "stream",
          "text": [
            "The youngest child is ales\n"
          ],
          "name": "stdout"
        }
      ]
    },
    {
      "cell_type": "code",
      "metadata": {
        "id": "2xETP7V_J75Q",
        "colab_type": "code",
        "colab": {}
      },
      "source": [
        "def mul(*a):\n",
        "  m = 1\n",
        "  for i in a:\n",
        "    m = m * i\n",
        "  return(m)\n",
        "\n"
      ],
      "execution_count": 0,
      "outputs": []
    },
    {
      "cell_type": "code",
      "metadata": {
        "id": "0s0H1wjqKvrJ",
        "colab_type": "code",
        "colab": {
          "base_uri": "https://localhost:8080/",
          "height": 34
        },
        "outputId": "341b56d6-d2a7-4859-b936-c271f71944e0"
      },
      "source": [
        "mul(1,2,3)"
      ],
      "execution_count": 16,
      "outputs": [
        {
          "output_type": "execute_result",
          "data": {
            "text/plain": [
              "6"
            ]
          },
          "metadata": {
            "tags": []
          },
          "execution_count": 16
        }
      ]
    },
    {
      "cell_type": "code",
      "metadata": {
        "id": "9GeRaHLYKzHj",
        "colab_type": "code",
        "colab": {}
      },
      "source": [
        "#Default parameter value\n",
        "def greet(a, b = \"hello\"):\n",
        "  return a * \" hello \""
      ],
      "execution_count": 0,
      "outputs": []
    },
    {
      "cell_type": "code",
      "metadata": {
        "id": "YUjtucnhLXGO",
        "colab_type": "code",
        "colab": {
          "base_uri": "https://localhost:8080/",
          "height": 34
        },
        "outputId": "2e749429-2445-4a35-d3e3-23cba8df8509"
      },
      "source": [
        "greet(5)"
      ],
      "execution_count": 24,
      "outputs": [
        {
          "output_type": "execute_result",
          "data": {
            "text/plain": [
              "' hello  hello  hello  hello  hello '"
            ]
          },
          "metadata": {
            "tags": []
          },
          "execution_count": 24
        }
      ]
    },
    {
      "cell_type": "code",
      "metadata": {
        "id": "9S5PwO8GLiO1",
        "colab_type": "code",
        "colab": {}
      },
      "source": [
        "def greet(a = 5,b = \" hello \"):\n",
        "  return a * b"
      ],
      "execution_count": 0,
      "outputs": []
    },
    {
      "cell_type": "code",
      "metadata": {
        "id": "6z8XorIKM5OK",
        "colab_type": "code",
        "colab": {
          "base_uri": "https://localhost:8080/",
          "height": 34
        },
        "outputId": "1397a3ae-0979-481f-888f-de43c3538142"
      },
      "source": [
        "greet(3)"
      ],
      "execution_count": 34,
      "outputs": [
        {
          "output_type": "execute_result",
          "data": {
            "text/plain": [
              "' hello  hello  hello '"
            ]
          },
          "metadata": {
            "tags": []
          },
          "execution_count": 34
        }
      ]
    },
    {
      "cell_type": "code",
      "metadata": {
        "id": "QcQifsYMMBEo",
        "colab_type": "code",
        "colab": {
          "base_uri": "https://localhost:8080/",
          "height": 34
        },
        "outputId": "42eedd19-b78a-49a0-877e-917fb8d1a0c9"
      },
      "source": [
        "greet(2) #Default parameter value"
      ],
      "execution_count": 30,
      "outputs": [
        {
          "output_type": "execute_result",
          "data": {
            "text/plain": [
              "'hellohello'"
            ]
          },
          "metadata": {
            "tags": []
          },
          "execution_count": 30
        }
      ]
    },
    {
      "cell_type": "code",
      "metadata": {
        "id": "5gZWn7pIMHa-",
        "colab_type": "code",
        "colab": {}
      },
      "source": [
        "#Passing a list as an argument\n",
        "def my_fun(food):\n",
        "  for x in food:\n",
        "    print(x)"
      ],
      "execution_count": 0,
      "outputs": []
    },
    {
      "cell_type": "code",
      "metadata": {
        "id": "vguz4XZ7Os0Q",
        "colab_type": "code",
        "colab": {}
      },
      "source": [
        "fruits = [\"apple\",\"mango\",\"banana\"]"
      ],
      "execution_count": 0,
      "outputs": []
    },
    {
      "cell_type": "code",
      "metadata": {
        "id": "qj6upiFDOy11",
        "colab_type": "code",
        "colab": {
          "base_uri": "https://localhost:8080/",
          "height": 68
        },
        "outputId": "ae4624ac-893b-4df8-b0a6-4bacecf3bd11"
      },
      "source": [
        "my_fun(fruits)"
      ],
      "execution_count": 37,
      "outputs": [
        {
          "output_type": "stream",
          "text": [
            "apple\n",
            "mango\n",
            "banana\n"
          ],
          "name": "stdout"
        }
      ]
    },
    {
      "cell_type": "code",
      "metadata": {
        "id": "Gf_tti48O3Mx",
        "colab_type": "code",
        "colab": {}
      },
      "source": [
        "ques. write a function func1() such that it can accept a variable length argument and print all argument value.\n",
        "func1(80,90)\n",
        "output:\n",
        "80\n",
        "90"
      ],
      "execution_count": 0,
      "outputs": []
    },
    {
      "cell_type": "code",
      "metadata": {
        "id": "kqUL7E0fQO7F",
        "colab_type": "code",
        "colab": {
          "base_uri": "https://localhost:8080/",
          "height": 34
        },
        "outputId": "1679f989-a25d-4275-c5c6-982ced2c11c5"
      },
      "source": [
        "#Recursive functions: \n",
        "def calculatesum(num):\n",
        "  if num:\n",
        "    return num + calculatesum(num-1)\n",
        "  else:\n",
        "    return 0\n",
        "res = calculatesum(10)\n",
        "print(res)"
      ],
      "execution_count": 39,
      "outputs": [
        {
          "output_type": "stream",
          "text": [
            "55\n"
          ],
          "name": "stdout"
        }
      ]
    },
    {
      "cell_type": "markdown",
      "metadata": {
        "id": "-uGTH8izSRkq",
        "colab_type": "text"
      },
      "source": [
        "**lambda Functions**\n",
        "In python lambda functions is considered as anonymous function written in a single line.\n",
        "syntax : lambda arguments : expression\n",
        "1. You can pass n no of arguments but lambda function only return single value.\n",
        "2. lambda function does not allow return keyword\n",
        "3. it can be used with built in functions like filter (),map() or reduce()."
      ]
    },
    {
      "cell_type": "code",
      "metadata": {
        "id": "Jj2lCIp6Q6zu",
        "colab_type": "code",
        "colab": {}
      },
      "source": [
        "def cube(x):\n",
        "  return x * x * x"
      ],
      "execution_count": 0,
      "outputs": []
    },
    {
      "cell_type": "code",
      "metadata": {
        "id": "vTokcmJDS9zD",
        "colab_type": "code",
        "colab": {
          "base_uri": "https://localhost:8080/",
          "height": 34
        },
        "outputId": "74773075-eeed-47b5-f522-f8b8f1755464"
      },
      "source": [
        "cube(7)"
      ],
      "execution_count": 41,
      "outputs": [
        {
          "output_type": "execute_result",
          "data": {
            "text/plain": [
              "343"
            ]
          },
          "metadata": {
            "tags": []
          },
          "execution_count": 41
        }
      ]
    },
    {
      "cell_type": "code",
      "metadata": {
        "id": "y_aUms8gS_IO",
        "colab_type": "code",
        "colab": {}
      },
      "source": [
        "func1 = lambda x : x * x* x"
      ],
      "execution_count": 0,
      "outputs": []
    },
    {
      "cell_type": "code",
      "metadata": {
        "id": "ZvCtUmB3TKjC",
        "colab_type": "code",
        "colab": {
          "base_uri": "https://localhost:8080/",
          "height": 34
        },
        "outputId": "7663846b-9e28-4a43-dcc0-96af8e19616b"
      },
      "source": [
        "func1(4)"
      ],
      "execution_count": 44,
      "outputs": [
        {
          "output_type": "execute_result",
          "data": {
            "text/plain": [
              "64"
            ]
          },
          "metadata": {
            "tags": []
          },
          "execution_count": 44
        }
      ]
    },
    {
      "cell_type": "code",
      "metadata": {
        "id": "sU1iCtF4TLjd",
        "colab_type": "code",
        "colab": {}
      },
      "source": [
        "add = lambda a,b,c : a +b + c"
      ],
      "execution_count": 0,
      "outputs": []
    },
    {
      "cell_type": "code",
      "metadata": {
        "id": "FigZrUthTx5A",
        "colab_type": "code",
        "colab": {
          "base_uri": "https://localhost:8080/",
          "height": 34
        },
        "outputId": "36f40914-f256-40d6-e1ae-6cb8d43d9ab7"
      },
      "source": [
        "add(2,3,5)"
      ],
      "execution_count": 46,
      "outputs": [
        {
          "output_type": "execute_result",
          "data": {
            "text/plain": [
              "10"
            ]
          },
          "metadata": {
            "tags": []
          },
          "execution_count": 46
        }
      ]
    },
    {
      "cell_type": "code",
      "metadata": {
        "id": "2lYWdeijTztC",
        "colab_type": "code",
        "colab": {}
      },
      "source": [
        "# i want a even numbers from a list.\n",
        "# with lambda functions.\n",
        "lambda() with filter()\n",
        "The filter ( ) in python takes in a function and list as arguments."
      ],
      "execution_count": 0,
      "outputs": []
    },
    {
      "cell_type": "code",
      "metadata": {
        "id": "uIyLLLpoUfMh",
        "colab_type": "code",
        "colab": {}
      },
      "source": [
        "list1 = [5,6,7,8,12,67,89,92]\n",
        "final_list = list(filter(lambda x : (x%2 != 0),list1))"
      ],
      "execution_count": 0,
      "outputs": []
    },
    {
      "cell_type": "code",
      "metadata": {
        "id": "bz2dJi3rVJLZ",
        "colab_type": "code",
        "colab": {
          "base_uri": "https://localhost:8080/",
          "height": 34
        },
        "outputId": "2b0bdb34-3fb8-45b5-f29b-91582ba87b27"
      },
      "source": [
        "final_list"
      ],
      "execution_count": 48,
      "outputs": [
        {
          "output_type": "execute_result",
          "data": {
            "text/plain": [
              "[5, 7, 67, 89]"
            ]
          },
          "metadata": {
            "tags": []
          },
          "execution_count": 48
        }
      ]
    },
    {
      "cell_type": "code",
      "metadata": {
        "id": "BmXJc6wqVLAx",
        "colab_type": "code",
        "colab": {}
      },
      "source": [
        "  final_list =list(filter(function ---- lambda function , iterable --- list, tuple, string ))"
      ],
      "execution_count": 0,
      "outputs": []
    },
    {
      "cell_type": "code",
      "metadata": {
        "id": "GpgHSw1OV5cv",
        "colab_type": "code",
        "colab": {}
      },
      "source": [
        "lambda() with map()\n",
        "list --- uske saare elements ko 2 s multiply krna h.\n",
        "map(function,iterable)"
      ],
      "execution_count": 0,
      "outputs": []
    },
    {
      "cell_type": "code",
      "metadata": {
        "id": "ovpuiu5SW54L",
        "colab_type": "code",
        "colab": {}
      },
      "source": [
        "fin_list = list(map(lambda x : x * 2,list1))"
      ],
      "execution_count": 0,
      "outputs": []
    },
    {
      "cell_type": "code",
      "metadata": {
        "id": "4u3PRoAMXLrI",
        "colab_type": "code",
        "colab": {
          "base_uri": "https://localhost:8080/",
          "height": 34
        },
        "outputId": "9e976b8c-ecdc-4390-cebf-cee3e0c42799"
      },
      "source": [
        "fin_list"
      ],
      "execution_count": 51,
      "outputs": [
        {
          "output_type": "execute_result",
          "data": {
            "text/plain": [
              "[10, 12, 14, 16, 24, 134, 178, 184]"
            ]
          },
          "metadata": {
            "tags": []
          },
          "execution_count": 51
        }
      ]
    },
    {
      "cell_type": "code",
      "metadata": {
        "id": "6CyfuByDXP6I",
        "colab_type": "code",
        "colab": {}
      },
      "source": [
        "li = [1,4,6,8,9] --- input list\n",
        "list2 = [1,16,36,64,81] --- output list"
      ],
      "execution_count": 0,
      "outputs": []
    },
    {
      "cell_type": "code",
      "metadata": {
        "id": "_bokXFjNX18r",
        "colab_type": "code",
        "colab": {}
      },
      "source": [
        "li = [1,4,6,8,9]\n",
        "new_list=list(map(lambda x : x **2,li))"
      ],
      "execution_count": 0,
      "outputs": []
    },
    {
      "cell_type": "code",
      "metadata": {
        "id": "lPE3a-3CYK85",
        "colab_type": "code",
        "colab": {
          "base_uri": "https://localhost:8080/",
          "height": 34
        },
        "outputId": "12a41ea5-dfb8-4c62-8f51-41ccf4bc7482"
      },
      "source": [
        "new_list"
      ],
      "execution_count": 53,
      "outputs": [
        {
          "output_type": "execute_result",
          "data": {
            "text/plain": [
              "[1, 16, 36, 64, 81]"
            ]
          },
          "metadata": {
            "tags": []
          },
          "execution_count": 53
        }
      ]
    },
    {
      "cell_type": "code",
      "metadata": {
        "id": "HzRFafD4YMpY",
        "colab_type": "code",
        "colab": {}
      },
      "source": [
        "lambda with reduce()\n",
        "The reduce function in python takes in a function and iterable as an argument. this function is designed to call with lambda function.\n",
        "this performs a repetitive operation over the pairs and returns a reduced list."
      ],
      "execution_count": 0,
      "outputs": []
    },
    {
      "cell_type": "code",
      "metadata": {
        "id": "PVyYQCTJY-wk",
        "colab_type": "code",
        "colab": {}
      },
      "source": [
        "from functools import reduce\n",
        "li = [5,67,89,45,32,67]\n",
        "sum1 = reduce((lambda x , y : x +y ), li)"
      ],
      "execution_count": 0,
      "outputs": []
    },
    {
      "cell_type": "code",
      "metadata": {
        "id": "smmaWxfaZXLM",
        "colab_type": "code",
        "colab": {
          "base_uri": "https://localhost:8080/",
          "height": 34
        },
        "outputId": "a13e8d58-cc69-4f82-e642-ae2f9b75b3b9"
      },
      "source": [
        "sum1"
      ],
      "execution_count": 55,
      "outputs": [
        {
          "output_type": "execute_result",
          "data": {
            "text/plain": [
              "305"
            ]
          },
          "metadata": {
            "tags": []
          },
          "execution_count": 55
        }
      ]
    },
    {
      "cell_type": "code",
      "metadata": {
        "id": "VfLGBHK8ZYa9",
        "colab_type": "code",
        "colab": {}
      },
      "source": [
        ""
      ],
      "execution_count": 0,
      "outputs": []
    }
  ]
}