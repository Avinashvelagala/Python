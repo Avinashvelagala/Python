{
 "cells": [
  {
   "cell_type": "code",
   "execution_count": null,
   "metadata": {},
   "outputs": [],
   "source": [
    "BY now, we have learnt what classes,objects,methods and how to instantiate them we also discussed about inheritance and its\n",
    "its types.\n",
    "Today we are going to learn about some other very useful concepts of object oriented programming."
   ]
  },
  {
   "cell_type": "code",
   "execution_count": null,
   "metadata": {},
   "outputs": [],
   "source": [
    "1. PolyMorphosm: Poly|Morphism\n",
    "   Poly means many or bht saara\n",
    "   Morphism means forms.\n",
    "IN programming it means same function name(but different functionality) used for different types."
   ]
  },
  {
   "cell_type": "code",
   "execution_count": null,
   "metadata": {},
   "outputs": [],
   "source": [
    "def add(a,b,c = 0):\n",
    "    return a+b +c"
   ]
  },
  {
   "cell_type": "code",
   "execution_count": null,
   "metadata": {},
   "outputs": [],
   "source": [
    "print(add(2,3))\n",
    "print(add(2,3,4))"
   ]
  },
  {
   "cell_type": "code",
   "execution_count": null,
   "metadata": {},
   "outputs": [],
   "source": [
    "Now, let us try polymorphism by using class methods.\n",
    "\n"
   ]
  },
  {
   "cell_type": "code",
   "execution_count": null,
   "metadata": {},
   "outputs": [],
   "source": [
    "class India():\n",
    "    def capital(self):\n",
    "        print(\"New Delhi is the capital of INdia\")\n",
    "    def language(self):\n",
    "        print(\"Hindi is the most common language\")\n",
    "    def type(self):\n",
    "        print(\"India is a developing country \")\n",
    "class USA():\n",
    "    def capital(self):\n",
    "        print(\"Washington DC is the capital of USA\")\n",
    "    def language(self):\n",
    "        print(\"English is the most common language\")\n",
    "    def type(self):\n",
    "        print(\"USA is a developed country \")\n",
    "        "
   ]
  },
  {
   "cell_type": "code",
   "execution_count": null,
   "metadata": {},
   "outputs": [],
   "source": [
    "ind = India()\n",
    "usa = USA()"
   ]
  },
  {
   "cell_type": "code",
   "execution_count": null,
   "metadata": {},
   "outputs": [],
   "source": [
    "for country in (ind,usa):\n",
    "    country.capital()\n",
    "    country.type()\n",
    "    country.language()"
   ]
  },
  {
   "cell_type": "code",
   "execution_count": null,
   "metadata": {},
   "outputs": [],
   "source": [
    "class square:\n",
    "    side = 5\n",
    "    def calculate_area(self):\n",
    "        return self.side * self.side\n",
    "class triangle:\n",
    "    base = 5\n",
    "    height = 4\n",
    "    def calculate_area(self):\n",
    "        return 0.5 * self.base * self.height"
   ]
  },
  {
   "cell_type": "code",
   "execution_count": null,
   "metadata": {},
   "outputs": [],
   "source": [
    "sq = square()\n",
    "tr = triangle()"
   ]
  },
  {
   "cell_type": "code",
   "execution_count": null,
   "metadata": {},
   "outputs": [],
   "source": [
    "print(\"Area of square is \" , sq.calculate_area())\n",
    "print(\"Area of triangle is \" , tr.calculate_area())"
   ]
  },
  {
   "cell_type": "code",
   "execution_count": null,
   "metadata": {},
   "outputs": [],
   "source": [
    "This is something also known as method overriding\n",
    "Method overriding m method ka name same rehta h do yea teen alag alag classes mein\n",
    "but unke parameters badal jate h according to the functioning of the class.\n",
    "Polymorphism with inheritance."
   ]
  },
  {
   "cell_type": "code",
   "execution_count": null,
   "metadata": {},
   "outputs": [],
   "source": [
    "class Bird:\n",
    "    def intro(self):\n",
    "        print(\"There are many types of birds \")\n",
    "    def flight(self):\n",
    "        print(\"Most of the birds can fly\")\n",
    "class sparrow(Bird):\n",
    "    def flight(self):\n",
    "        print(\"sparrows can fly\")\n",
    "class ostrich(Bird):\n",
    "     def flight(self):\n",
    "        print(\"ostriches can not fly\")\n",
    "b = Bird()\n",
    "s = sparrow()\n",
    "o = ostrich()\n",
    "b.intro()\n",
    "b.flight()\n",
    "print(s.intro())\n",
    "print(s.flight())\n",
    "print(o.intro())\n",
    "print(o.flight())\n",
    "#  Because there are two print staements first is inside the function or method\n",
    " #and second is outside. When functions doesn't return anything that time it reurn \n",
    "    #NOne value.\n",
    "        \n",
    "        \n",
    "        \n",
    "        \n",
    "        \n",
    "        \n",
    "        "
   ]
  },
  {
   "cell_type": "code",
   "execution_count": null,
   "metadata": {},
   "outputs": [],
   "source": [
    "print(b.intro())\n",
    "print(b.flight())"
   ]
  },
  {
   "cell_type": "code",
   "execution_count": null,
   "metadata": {},
   "outputs": [],
   "source": [
    "BY now we know how what inheritance and polymorphism is.\n",
    "Now, we have one another form of oops concepts which is known as encapsulation,\n",
    "which can not be directly implemented in python but yes we can use it by another way,\n",
    "Public, private and protected classes suna h?\n",
    "For eg: There is one comapnay which works in sales, and have many departments\n",
    "    Finance, sales,hr,employee\n",
    "Suppose finance department stored all of its information in finance() class and finance dept members can access  it.\n",
    "similarly all the information reagarding  sales is in sales() class and can only be accesses by sales people only.\n",
    "\n",
    "But one day account department needs the complete information about one-day sale\n",
    "so what will they do?\n",
    "They will contact the sales manager and asks about data or allow them permission to look at their class methods.\n",
    "\n"
   ]
  },
  {
   "cell_type": "code",
   "execution_count": null,
   "metadata": {},
   "outputs": [],
   "source": [
    "Encapsulation : It describes the idea of wrapping data and the methods that\n",
    "    work on data within one unit.\n",
    "    This puts restrictions on accessing variables and methods directly and can prevent\n",
    "    accidently modification of the data.\n",
    "To prevent this, an objects variable can only be changed by\n",
    "objects method. Those type of variables are known as private variables.\n",
    "Python doesnot supprt encapsulation but it follows convention by prefixing the name of the \n",
    "member by a \"_\" or \"__\"\n",
    "Python developers believes that all programmers will follow the programming rules.\n",
    "suppose maine apni ek class ko private bnanaya agr ye java or c++ hoti then main as a developer\n",
    "us class k members ko access nhi kr sakti thi.\n",
    "But python m aisa nhi h , python k developers ne maana ki agr maine ek \n",
    "sign lga dia apni class k aage jiska mtlb private yea protected h \n",
    "then developers try nhi karege meri class k variables to access krne ka."
   ]
  },
  {
   "cell_type": "code",
   "execution_count": null,
   "metadata": {},
   "outputs": [],
   "source": [
    "Protected Members: They are accessible from within the class are also available to its subclasses."
   ]
  },
  {
   "cell_type": "code",
   "execution_count": null,
   "metadata": {},
   "outputs": [],
   "source": [
    "class Base:\n",
    "    def __init__(self):\n",
    "        #Protected Number\n",
    "        self._a = 2\n",
    "class Child(Base):\n",
    "    def __init__(self):\n",
    "        Base.__init__(self)\n",
    "        print(\"Calling the protected number of Base classs\")\n",
    "        print(self._a)"
   ]
  },
  {
   "cell_type": "code",
   "execution_count": null,
   "metadata": {},
   "outputs": [],
   "source": [
    "ob = Base()\n",
    "ob1 = Child()"
   ]
  },
  {
   "cell_type": "code",
   "execution_count": null,
   "metadata": {},
   "outputs": [],
   "source": [
    "ob.a"
   ]
  },
  {
   "cell_type": "code",
   "execution_count": null,
   "metadata": {},
   "outputs": [],
   "source": [
    "class Base:\n",
    "    def __init__(self):\n",
    "        #Protected Number\n",
    "        self.a = 2\n",
    "class Child(Base):\n",
    "    def __init__(self):\n",
    "        Base.__init__(self)\n",
    "        print(\"Calling the protected number of Base classs\")\n",
    "        print(self.a)"
   ]
  },
  {
   "cell_type": "code",
   "execution_count": null,
   "metadata": {},
   "outputs": [],
   "source": [
    "ob = Base()\n",
    "ob1 = Child()"
   ]
  },
  {
   "cell_type": "code",
   "execution_count": null,
   "metadata": {},
   "outputs": [],
   "source": [
    "ob.a"
   ]
  },
  {
   "cell_type": "code",
   "execution_count": null,
   "metadata": {},
   "outputs": [],
   "source": [
    "class employee:\n",
    "    def __init__(self,name,sal):\n",
    "        self.name = name\n",
    "        self.salary = sal"
   ]
  },
  {
   "cell_type": "code",
   "execution_count": null,
   "metadata": {},
   "outputs": [],
   "source": [
    "e1 = employee(\"kiran\",20000)"
   ]
  },
  {
   "cell_type": "code",
   "execution_count": null,
   "metadata": {},
   "outputs": [],
   "source": [
    "e1.salary "
   ]
  },
  {
   "cell_type": "code",
   "execution_count": null,
   "metadata": {},
   "outputs": [],
   "source": [
    "e1.salary = 1000"
   ]
  },
  {
   "cell_type": "code",
   "execution_count": null,
   "metadata": {},
   "outputs": [],
   "source": [
    "e1.salary"
   ]
  },
  {
   "cell_type": "code",
   "execution_count": null,
   "metadata": {},
   "outputs": [],
   "source": [
    "class employee:\n",
    "    def __init__(self,name,sal):\n",
    "        self._name = name\n",
    "        self._salary = sal"
   ]
  },
  {
   "cell_type": "code",
   "execution_count": null,
   "metadata": {},
   "outputs": [],
   "source": [
    "e1 = employee(\"shashank\",20000)"
   ]
  },
  {
   "cell_type": "code",
   "execution_count": null,
   "metadata": {},
   "outputs": [],
   "source": [
    "e1._salary"
   ]
  },
  {
   "cell_type": "code",
   "execution_count": null,
   "metadata": {},
   "outputs": [],
   "source": [
    "The responsible programmers would refrain from accessing and modifying instance variables \n",
    "prefixed with _ from outside the class."
   ]
  },
  {
   "cell_type": "code",
   "execution_count": null,
   "metadata": {},
   "outputs": [],
   "source": [
    "class Cetpa:\n",
    "    _name = \"deepak\"\n",
    "    _roll = 1478965\n",
    "    def displayrollandname(self):\n",
    "        print(\"name :\" , self._name)\n",
    "        print(\"Roll : \" , self._roll)\n",
    "ob = Cetpa()\n",
    "ob.displayrollandname()\n",
    "    "
   ]
  },
  {
   "cell_type": "code",
   "execution_count": null,
   "metadata": {},
   "outputs": [],
   "source": [
    "Abstraction :  An abstraction is the process of hiding the real implementation of application from the user\n",
    "    and emphasizing only on the usage of it.\n",
    "we need abstract class: It can be considered as a blueprint for other classes. It allows us to create\n",
    "    a set of methods that must be created within any child class from the abstract class."
   ]
  },
  {
   "cell_type": "code",
   "execution_count": null,
   "metadata": {},
   "outputs": [],
   "source": [
    "A abstract method is a method that has an declaration but not definiation.\n",
    "By default python does not support abstraction but there is one module in this named as ABC"
   ]
  },
  {
   "cell_type": "code",
   "execution_count": null,
   "metadata": {},
   "outputs": [],
   "source": [
    "from abc import ABC ,abstractmethod"
   ]
  },
  {
   "cell_type": "code",
   "execution_count": null,
   "metadata": {},
   "outputs": [],
   "source": [
    "class polygon(ABC):\n",
    "    #abstract method\n",
    "    def noofsides(self):\n",
    "        pass\n",
    "class Triangle(polygon):\n",
    "    #overriding abstract method\n",
    "    def noofsides(self):\n",
    "        print(\"i have three sides\")\n",
    "class Pentagon():\n",
    "    def noofsides(self):\n",
    "        print(\"i have five sides\")"
   ]
  },
  {
   "cell_type": "code",
   "execution_count": null,
   "metadata": {},
   "outputs": [],
   "source": [
    "t = Triangle()\n",
    "p = Pentagon()"
   ]
  },
  {
   "cell_type": "code",
   "execution_count": null,
   "metadata": {},
   "outputs": [],
   "source": [
    "t.noofsides()"
   ]
  },
  {
   "cell_type": "code",
   "execution_count": null,
   "metadata": {},
   "outputs": [],
   "source": [
    "p.noofsides()"
   ]
  },
  {
   "cell_type": "code",
   "execution_count": null,
   "metadata": {},
   "outputs": [],
   "source": [
    "pol = polygon()"
   ]
  },
  {
   "cell_type": "code",
   "execution_count": null,
   "metadata": {},
   "outputs": [],
   "source": [
    "pol.noofsides()"
   ]
  },
  {
   "cell_type": "code",
   "execution_count": null,
   "metadata": {},
   "outputs": [],
   "source": [
    "type(polygon)"
   ]
  },
  {
   "cell_type": "code",
   "execution_count": null,
   "metadata": {},
   "outputs": [],
   "source": [
    "type(Pentagon)"
   ]
  },
  {
   "cell_type": "code",
   "execution_count": null,
   "metadata": {},
   "outputs": [],
   "source": [
    "from abc import ABC"
   ]
  },
  {
   "cell_type": "code",
   "execution_count": null,
   "metadata": {},
   "outputs": [],
   "source": [
    "class shape(ABC):\n",
    "    def calculate_area(self):\n",
    "        pass\n",
    "class Rectangle(shape):\n",
    "    l = 5\n",
    "    b = 3\n",
    "    def calculate_area(self):\n",
    "        return self.l * self.b\n",
    "class circle(shape):\n",
    "    r = 4\n",
    "    def calculate_area(self):\n",
    "        return 3.14 * self.r * self.r\n",
    "    "
   ]
  },
  {
   "cell_type": "code",
   "execution_count": null,
   "metadata": {},
   "outputs": [],
   "source": [
    "rec = Rectangle()\n",
    "cir = circle()"
   ]
  },
  {
   "cell_type": "code",
   "execution_count": null,
   "metadata": {},
   "outputs": [],
   "source": [
    "rec.calculate_area()"
   ]
  },
  {
   "cell_type": "code",
   "execution_count": null,
   "metadata": {},
   "outputs": [],
   "source": [
    "from abc import ABC,abstractmethod"
   ]
  },
  {
   "cell_type": "code",
   "execution_count": 40,
   "metadata": {},
   "outputs": [],
   "source": [
    "class AbstractClassExample(ABC):\n",
    "    def __init__(self,value):\n",
    "        self.value = value\n",
    "        super().__init__()\n",
    "    @abstractmethod\n",
    "    def do_something(self):\n",
    "        pass"
   ]
  },
  {
   "cell_type": "code",
   "execution_count": null,
   "metadata": {},
   "outputs": [],
   "source": [
    "Now we will define a subclass using previously abstract class.\n",
    "You will notice that we havent implemented do_something method,\n",
    "even though we required it."
   ]
  },
  {
   "cell_type": "code",
   "execution_count": 41,
   "metadata": {},
   "outputs": [
    {
     "ename": "TypeError",
     "evalue": "Can't instantiate abstract class add with abstract methods do_something",
     "output_type": "error",
     "traceback": [
      "\u001b[1;31m---------------------------------------------------------------------------\u001b[0m",
      "\u001b[1;31mTypeError\u001b[0m                                 Traceback (most recent call last)",
      "\u001b[1;32m<ipython-input-41-a1db2d6c7ad8>\u001b[0m in \u001b[0;36m<module>\u001b[1;34m\u001b[0m\n\u001b[0;32m      1\u001b[0m \u001b[1;32mclass\u001b[0m \u001b[0madd\u001b[0m\u001b[1;33m(\u001b[0m\u001b[0mAbstractClassExample\u001b[0m\u001b[1;33m)\u001b[0m\u001b[1;33m:\u001b[0m\u001b[1;33m\u001b[0m\u001b[1;33m\u001b[0m\u001b[0m\n\u001b[0;32m      2\u001b[0m     \u001b[1;32mpass\u001b[0m\u001b[1;33m\u001b[0m\u001b[1;33m\u001b[0m\u001b[0m\n\u001b[1;32m----> 3\u001b[1;33m \u001b[0mx\u001b[0m \u001b[1;33m=\u001b[0m \u001b[0madd\u001b[0m\u001b[1;33m(\u001b[0m\u001b[1;33m)\u001b[0m\u001b[1;33m\u001b[0m\u001b[1;33m\u001b[0m\u001b[0m\n\u001b[0m",
      "\u001b[1;31mTypeError\u001b[0m: Can't instantiate abstract class add with abstract methods do_something"
     ]
    }
   ],
   "source": [
    "class add(AbstractClassExample):\n",
    "    pass\n",
    "x = add()"
   ]
  },
  {
   "cell_type": "code",
   "execution_count": 42,
   "metadata": {},
   "outputs": [],
   "source": [
    "class add(AbstractClassExample):\n",
    "    def do_something(self):\n",
    "        return self.value + 4\n",
    "class mul(AbstractClassExample):\n",
    "    def do_something(self):\n",
    "        return self.value * 4"
   ]
  },
  {
   "cell_type": "code",
   "execution_count": 43,
   "metadata": {},
   "outputs": [],
   "source": [
    "x = add(10)"
   ]
  },
  {
   "cell_type": "code",
   "execution_count": 44,
   "metadata": {},
   "outputs": [
    {
     "data": {
      "text/plain": [
       "<__main__.add at 0x21f0bf2f748>"
      ]
     },
     "execution_count": 44,
     "metadata": {},
     "output_type": "execute_result"
    }
   ],
   "source": [
    "x"
   ]
  },
  {
   "cell_type": "code",
   "execution_count": 45,
   "metadata": {},
   "outputs": [
    {
     "data": {
      "text/plain": [
       "14"
      ]
     },
     "execution_count": 45,
     "metadata": {},
     "output_type": "execute_result"
    }
   ],
   "source": [
    "x.do_something()"
   ]
  },
  {
   "cell_type": "code",
   "execution_count": null,
   "metadata": {},
   "outputs": [],
   "source": []
  }
 ],
 "metadata": {
  "kernelspec": {
   "display_name": "Python 3",
   "language": "python",
   "name": "python3"
  },
  "language_info": {
   "codemirror_mode": {
    "name": "ipython",
    "version": 3
   },
   "file_extension": ".py",
   "mimetype": "text/x-python",
   "name": "python",
   "nbconvert_exporter": "python",
   "pygments_lexer": "ipython3",
   "version": "3.7.1"
  }
 },
 "nbformat": 4,
 "nbformat_minor": 2
}
