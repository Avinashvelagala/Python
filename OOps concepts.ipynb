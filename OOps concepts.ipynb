{
 "cells": [
  {
   "cell_type": "code",
   "execution_count": null,
   "metadata": {},
   "outputs": [],
   "source": [
    "BY now, we have learnt what classes,objects,methods and how to instantiate them we also discussed about inheritance and its\n",
    "its types.\n",
    "Today we are going to learn about some other very useful concepts of object oriented programming."
   ]
  },
  {
   "cell_type": "code",
   "execution_count": null,
   "metadata": {},
   "outputs": [],
   "source": [
    "1. PolyMorphosm: Poly|Morphism\n",
    "   Poly means many or bht saara\n",
    "   Morphism means forms.\n",
    "IN programming it means same function name(but different functionality) used for different types."
   ]
  },
  {
   "cell_type": "code",
   "execution_count": 5,
   "metadata": {},
   "outputs": [],
   "source": [
    "def add(a,b,c = 0):\n",
    "    return a+b +c"
   ]
  },
  {
   "cell_type": "code",
   "execution_count": 6,
   "metadata": {},
   "outputs": [
    {
     "name": "stdout",
     "output_type": "stream",
     "text": [
      "5\n",
      "9\n"
     ]
    }
   ],
   "source": [
    "print(add(2,3))\n",
    "print(add(2,3,4))"
   ]
  },
  {
   "cell_type": "code",
   "execution_count": null,
   "metadata": {},
   "outputs": [],
   "source": [
    "Now, let us try polymorphism by using class methods.\n",
    "\n"
   ]
  },
  {
   "cell_type": "code",
   "execution_count": 7,
   "metadata": {},
   "outputs": [],
   "source": [
    "class India():\n",
    "    def capital(self):\n",
    "        print(\"New Delhi is the capital of INdia\")\n",
    "    def language(self):\n",
    "        print(\"Hindi is the most common language\")\n",
    "    def type(self):\n",
    "        print(\"India is a developing country \")\n",
    "class USA():\n",
    "    def capital(self):\n",
    "        print(\"Washington DC is the capital of USA\")\n",
    "    def language(self):\n",
    "        print(\"English is the most common language\")\n",
    "    def type(self):\n",
    "        print(\"USA is a developed country \")\n",
    "        "
   ]
  },
  {
   "cell_type": "code",
   "execution_count": 8,
   "metadata": {},
   "outputs": [],
   "source": [
    "ind = India()\n",
    "usa = USA()"
   ]
  },
  {
   "cell_type": "code",
   "execution_count": 9,
   "metadata": {},
   "outputs": [
    {
     "name": "stdout",
     "output_type": "stream",
     "text": [
      "New Delhi is the capital of INdia\n",
      "India is a developing country \n",
      "Hindi is the most common language\n",
      "Washington DC is the capital of USA\n",
      "USA is a developed country \n",
      "English is the most common language\n"
     ]
    }
   ],
   "source": [
    "for country in (ind,usa):\n",
    "    country.capital()\n",
    "    country.type()\n",
    "    country.language()"
   ]
  },
  {
   "cell_type": "code",
   "execution_count": 10,
   "metadata": {},
   "outputs": [],
   "source": [
    "class square:\n",
    "    side = 5\n",
    "    def calculate_area(self):\n",
    "        return self.side * self.side\n",
    "class triangle:\n",
    "    base = 5\n",
    "    height = 4\n",
    "    def calculate_area(self):\n",
    "        return 0.5 * self.base * self.height"
   ]
  },
  {
   "cell_type": "code",
   "execution_count": 11,
   "metadata": {},
   "outputs": [],
   "source": [
    "sq = square()\n",
    "tr = triangle()"
   ]
  },
  {
   "cell_type": "code",
   "execution_count": 13,
   "metadata": {},
   "outputs": [
    {
     "name": "stdout",
     "output_type": "stream",
     "text": [
      "Area of square is  25\n",
      "Area of triangle is  10.0\n"
     ]
    }
   ],
   "source": [
    "print(\"Area of square is \" , sq.calculate_area())\n",
    "print(\"Area of triangle is \" , tr.calculate_area())"
   ]
  },
  {
   "cell_type": "code",
   "execution_count": null,
   "metadata": {},
   "outputs": [],
   "source": [
    "This is something also known as method overriding\n",
    "Method overriding m method ka name same rehta h do yea teen alag alag classes mein\n",
    "but unke parameters badal jate h according to the functioning of the class.\n",
    "Polymorphism with inheritance."
   ]
  },
  {
   "cell_type": "code",
   "execution_count": 17,
   "metadata": {},
   "outputs": [
    {
     "name": "stdout",
     "output_type": "stream",
     "text": [
      "There are many types of birds \n",
      "Most of the birds can fly\n",
      "There are many types of birds \n",
      "None\n",
      "sparrows can fly\n",
      "None\n",
      "There are many types of birds \n",
      "None\n",
      "ostriches can not fly\n",
      "None\n"
     ]
    }
   ],
   "source": [
    "class Bird:\n",
    "    def intro(self):\n",
    "        print(\"There are many types of birds \")\n",
    "    def flight(self):\n",
    "        print(\"Most of the birds can fly\")\n",
    "class sparrow(Bird):\n",
    "    def flight(self):\n",
    "        print(\"sparrows can fly\")\n",
    "class ostrich(Bird):\n",
    "     def flight(self):\n",
    "        print(\"ostriches can not fly\")\n",
    "b = Bird()\n",
    "s = sparrow()\n",
    "o = ostrich()\n",
    "b.intro()\n",
    "b.flight()\n",
    "print(s.intro())\n",
    "print(s.flight())\n",
    "print(o.intro())\n",
    "print(o.flight())\n",
    "#  Because there are two print staements first is inside the function or method\n",
    " #and second is outside. When functions doesn't return anything that time it reurn \n",
    "    #NOne value.\n",
    "        \n",
    "        \n",
    "        \n",
    "        \n",
    "        \n",
    "        \n",
    "        "
   ]
  },
  {
   "cell_type": "code",
   "execution_count": 15,
   "metadata": {},
   "outputs": [
    {
     "name": "stdout",
     "output_type": "stream",
     "text": [
      "There are many types of birds \n",
      "None\n",
      "Most of the birds can fly\n",
      "None\n"
     ]
    }
   ],
   "source": [
    "print(b.intro())\n",
    "print(b.flight())"
   ]
  },
  {
   "cell_type": "code",
   "execution_count": null,
   "metadata": {},
   "outputs": [],
   "source": [
    "BY now we know how what inheritance and polymorphism is.\n",
    "Now, we have one another form of oops concepts which is known as encapsulation,\n",
    "which can not be directly implemented in python but yes we can use it by another way,\n",
    "Public, private and protected classes suna h?\n",
    "For eg: There is one comapnay which works in sales, and have many departments\n",
    "    Finance, sales,hr,employee\n",
    "Suppose finance department stored all of its information in finance() class and finance dept members can access  it.\n",
    "similarly all the information reagarding  sales is in sales() class and can only be accesses by sales people only.\n",
    "\n",
    "But one day account department needs the complete information about one-day sale\n",
    "so what will they do?\n",
    "They will contact the sales manager and asks about data or allow them permission to look at their class methods.\n",
    "\n"
   ]
  },
  {
   "cell_type": "code",
   "execution_count": null,
   "metadata": {},
   "outputs": [],
   "source": [
    "Encapsulation : It describes the idea of wrapping data and the methods that\n",
    "    work on data within one unit.\n",
    "    This puts restrictions on accessing variables and methods directly and can prevent\n",
    "    accidently modification of the data.\n",
    "To prevent this, an objects variable can only be changed by\n",
    "objects method. Those type of variables are known as private variables.\n",
    "Python doesnot supprt encapsulation but it follows convention by prefixing the name of the \n",
    "member by a \"_\" or \"__\"\n",
    "Python developers believes that all programmers will follow the programming rules.\n",
    "suppose maine apni ek class ko private bnanaya agr ye java or c++ hoti then main as a developer\n",
    "us class k members ko access nhi kr sakti thi.\n",
    "But python m aisa nhi h , python k developers ne maana ki agr maine ek \n",
    "sign lga dia apni class k aage jiska mtlb private yea protected h \n",
    "then developers try nhi karege meri class k variables to access krne ka."
   ]
  },
  {
   "cell_type": "code",
   "execution_count": null,
   "metadata": {},
   "outputs": [],
   "source": [
    "Protected Members: They are accessible from within the class are also available to its subclasses."
   ]
  },
  {
   "cell_type": "code",
   "execution_count": 18,
   "metadata": {},
   "outputs": [],
   "source": [
    "class Base:\n",
    "    def __init__(self):\n",
    "        #Protected Number\n",
    "        self._a = 2\n",
    "class Child(Base):\n",
    "    def __init__(self):\n",
    "        Base.__init__(self)\n",
    "        print(\"Calling the protected number of Base classs\")\n",
    "        print(self._a)"
   ]
  },
  {
   "cell_type": "code",
   "execution_count": 19,
   "metadata": {},
   "outputs": [
    {
     "name": "stdout",
     "output_type": "stream",
     "text": [
      "Calling the protected number of Base classs\n",
      "2\n"
     ]
    }
   ],
   "source": [
    "ob = Base()\n",
    "ob1 = Child()"
   ]
  },
  {
   "cell_type": "code",
   "execution_count": 20,
   "metadata": {},
   "outputs": [
    {
     "ename": "AttributeError",
     "evalue": "'Base' object has no attribute 'a'",
     "output_type": "error",
     "traceback": [
      "\u001b[1;31m---------------------------------------------------------------------------\u001b[0m",
      "\u001b[1;31mAttributeError\u001b[0m                            Traceback (most recent call last)",
      "\u001b[1;32m<ipython-input-20-7b96de84044a>\u001b[0m in \u001b[0;36m<module>\u001b[1;34m\u001b[0m\n\u001b[1;32m----> 1\u001b[1;33m \u001b[0mob\u001b[0m\u001b[1;33m.\u001b[0m\u001b[0ma\u001b[0m\u001b[1;33m\u001b[0m\u001b[1;33m\u001b[0m\u001b[0m\n\u001b[0m",
      "\u001b[1;31mAttributeError\u001b[0m: 'Base' object has no attribute 'a'"
     ]
    }
   ],
   "source": [
    "ob.a"
   ]
  },
  {
   "cell_type": "code",
   "execution_count": 21,
   "metadata": {},
   "outputs": [],
   "source": [
    "class Base:\n",
    "    def __init__(self):\n",
    "        #Protected Number\n",
    "        self.a = 2\n",
    "class Child(Base):\n",
    "    def __init__(self):\n",
    "        Base.__init__(self)\n",
    "        print(\"Calling the protected number of Base classs\")\n",
    "        print(self.a)"
   ]
  },
  {
   "cell_type": "code",
   "execution_count": 22,
   "metadata": {},
   "outputs": [
    {
     "name": "stdout",
     "output_type": "stream",
     "text": [
      "Calling the protected number of Base classs\n",
      "2\n"
     ]
    }
   ],
   "source": [
    "ob = Base()\n",
    "ob1 = Child()"
   ]
  },
  {
   "cell_type": "code",
   "execution_count": 23,
   "metadata": {},
   "outputs": [
    {
     "data": {
      "text/plain": [
       "2"
      ]
     },
     "execution_count": 23,
     "metadata": {},
     "output_type": "execute_result"
    }
   ],
   "source": [
    "ob.a"
   ]
  },
  {
   "cell_type": "code",
   "execution_count": 24,
   "metadata": {},
   "outputs": [],
   "source": [
    "class employee:\n",
    "    def __init__(self,name,sal):\n",
    "        self.name = name\n",
    "        self.salary = sal"
   ]
  },
  {
   "cell_type": "code",
   "execution_count": 25,
   "metadata": {},
   "outputs": [],
   "source": [
    "e1 = employee(\"kiran\",20000)"
   ]
  },
  {
   "cell_type": "code",
   "execution_count": 26,
   "metadata": {},
   "outputs": [
    {
     "data": {
      "text/plain": [
       "20000"
      ]
     },
     "execution_count": 26,
     "metadata": {},
     "output_type": "execute_result"
    }
   ],
   "source": [
    "e1.salary "
   ]
  },
  {
   "cell_type": "code",
   "execution_count": 27,
   "metadata": {},
   "outputs": [],
   "source": [
    "e1.salary = 1000"
   ]
  },
  {
   "cell_type": "code",
   "execution_count": 28,
   "metadata": {},
   "outputs": [
    {
     "data": {
      "text/plain": [
       "1000"
      ]
     },
     "execution_count": 28,
     "metadata": {},
     "output_type": "execute_result"
    }
   ],
   "source": [
    "e1.salary"
   ]
  },
  {
   "cell_type": "code",
   "execution_count": 29,
   "metadata": {},
   "outputs": [],
   "source": [
    "class employee:\n",
    "    def __init__(self,name,sal):\n",
    "        self._name = name\n",
    "        self._salary = sal"
   ]
  },
  {
   "cell_type": "code",
   "execution_count": 30,
   "metadata": {},
   "outputs": [],
   "source": [
    "e1 = employee(\"shashank\",20000)"
   ]
  },
  {
   "cell_type": "code",
   "execution_count": 31,
   "metadata": {},
   "outputs": [
    {
     "data": {
      "text/plain": [
       "20000"
      ]
     },
     "execution_count": 31,
     "metadata": {},
     "output_type": "execute_result"
    }
   ],
   "source": [
    "e1._salary"
   ]
  },
  {
   "cell_type": "code",
   "execution_count": null,
   "metadata": {},
   "outputs": [],
   "source": [
    "The responsible programmers would refrain from accessing and modifying instance variables \n",
    "prefixed with _ from outside the class."
   ]
  },
  {
   "cell_type": "code",
   "execution_count": 32,
   "metadata": {},
   "outputs": [
    {
     "name": "stdout",
     "output_type": "stream",
     "text": [
      "name : deepak\n",
      "Roll :  1478965\n"
     ]
    }
   ],
   "source": [
    "class Cetpa:\n",
    "    _name = \"deepak\"\n",
    "    _roll = 1478965\n",
    "    def displayrollandname(self):\n",
    "        print(\"name :\" , self._name)\n",
    "        print(\"Roll : \" , self._roll)\n",
    "ob = Cetpa()\n",
    "ob.displayrollandname()\n",
    "    "
   ]
  },
  {
   "cell_type": "code",
   "execution_count": null,
   "metadata": {},
   "outputs": [],
   "source": []
  }
 ],
 "metadata": {
  "kernelspec": {
   "display_name": "Python 3",
   "language": "python",
   "name": "python3"
  },
  "language_info": {
   "codemirror_mode": {
    "name": "ipython",
    "version": 3
   },
   "file_extension": ".py",
   "mimetype": "text/x-python",
   "name": "python",
   "nbconvert_exporter": "python",
   "pygments_lexer": "ipython3",
   "version": "3.7.1"
  }
 },
 "nbformat": 4,
 "nbformat_minor": 2
}
