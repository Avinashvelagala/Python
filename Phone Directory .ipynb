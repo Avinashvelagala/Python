{
 "cells": [
  {
   "cell_type": "code",
   "execution_count": null,
   "metadata": {},
   "outputs": [],
   "source": [
    "WE have to design a phone diretory and information system\n",
    "choice 1. print information\n",
    "choice 2 . Modify\n",
    "choice 3. del account"
   ]
  },
  {
   "cell_type": "code",
   "execution_count": 1,
   "metadata": {},
   "outputs": [],
   "source": [
    "data = {\"divya@gmail.com\":[\"d@gmail.com\",\"Divya sahgal\",\"+919877643354\",\"56D Block A SHP\"],\n",
    "       \"Khush@gmail.com\": [\"K@gmail.com\",\"Khushagr sharma\",\"+918789654326\",\"Block 4 lane A Cp\"]}"
   ]
  },
  {
   "cell_type": "code",
   "execution_count": 2,
   "metadata": {},
   "outputs": [
    {
     "data": {
      "text/plain": [
       "{'divya@gmail.com': ['d@gmail.com',\n",
       "  'Divya sahgal',\n",
       "  '+919877643354',\n",
       "  '56D Block A SHP'],\n",
       " 'Khush@gmail.com': ['K@gmail.com',\n",
       "  'Khushagr sharma',\n",
       "  '+918789654326',\n",
       "  'Block 4 lane A Cp']}"
      ]
     },
     "execution_count": 2,
     "metadata": {},
     "output_type": "execute_result"
    }
   ],
   "source": [
    "data"
   ]
  },
  {
   "cell_type": "code",
   "execution_count": 3,
   "metadata": {},
   "outputs": [],
   "source": [
    "data_key = data.keys()"
   ]
  },
  {
   "cell_type": "code",
   "execution_count": 10,
   "metadata": {},
   "outputs": [
    {
     "name": "stdout",
     "output_type": "stream",
     "text": [
      "enter email id..khush@gmail.com\n"
     ]
    }
   ],
   "source": [
    "\n",
    "e = str(input(\"enter email id..\"))\n",
    "data_key = data.keys()\n",
    "if(e.lower() in data_key):\n",
    "    ps=str(input(\"Enter password:   \"))\n",
    "    prw = data.get(e.lower())\n",
    "    print(prw)"
   ]
  },
  {
   "cell_type": "code",
   "execution_count": null,
   "metadata": {},
   "outputs": [
    {
     "name": "stdout",
     "output_type": "stream",
     "text": [
      "----------Welcome to my information system-------------\n",
      " \n",
      "---------Select Any Of The Choice Mention Below-------\n",
      "           1:Infomation, 2:modify, 3:del account           \n",
      "Enter Choice --:1\n",
      "Enter Email or User ID :gaurav@yahoo.com\n",
      "Enter password :abc\n",
      "Invalid Email\n",
      "----------Welcome to my information system-------------\n",
      " \n",
      "---------Select Any Of The Choice Mention Below-------\n",
      "           1:Infomation, 2:modify, 3:del account           \n",
      "Enter Choice --:1\n",
      "Enter Email or User ID :abc@gmail.com\n",
      "Invalid password\n",
      "----------Welcome to my information system-------------\n",
      " \n",
      "---------Select Any Of The Choice Mention Below-------\n",
      "           1:Infomation, 2:modify, 3:del account           \n"
     ]
    }
   ],
   "source": [
    "data={\"gaurav@yahoo.com\":[\"abc@gmail.com\",\n",
    "                          \"gaurav singh\",\n",
    "                          \"+917845213256\",\n",
    "                          \"56D Block A CP\"],\n",
    "      \"anandgosh23@gmail.com\":[\"an123#\",\n",
    "                               \"A.GOASH\",\n",
    "                               \"+144895326545\",\n",
    "                               \"Block 4 lane A NY\"]}\n",
    "while(True):     \n",
    "    print(\"----------Welcome to my information system-------------\")\n",
    "    print(\" \") \n",
    "    print(\"---------Select Any Of The Choice Mention Below-------\")\n",
    "    print(\"           1:Infomation, 2:modify, 3:del account           \")\n",
    "    ch=int(input(\"Enter Choice --:\"))\n",
    "    if(ch==1):\n",
    "        e=str(input(\"Enter Email or User ID :\"))\n",
    "        data_key=data.keys()\n",
    "        if(e.lower() in data_key):\n",
    "            ps=str(input(\"Enter password :\"))\n",
    "            prw=data.get(e.lower())\n",
    "            if(ps==prw[0]):\n",
    "                print(\"Infomation of {}\".format(prw[1]))\n",
    "                print(\"---------------------------------\")\n",
    "                print(\"Name is {}\".format(prw[1]))\n",
    "                print(\"Phone number is {}\".format(prw[2]))\n",
    "                print(\"Address is {}\".format(prw[3]))\n",
    "                print(\"----------------------------------\")\n",
    "            else:\n",
    "                print(\"Invalid Email\")\n",
    "        else:\n",
    "             print(\"Invalid password\")\n",
    "    elif(ch==2):\n",
    "         e=str(input(\"Enter Email or User ID :\"))\n",
    "         data_key=data.keys()\n",
    "         if(e.lower() in data_key):\n",
    "             ps=str(input(\"Enter password :\"))\n",
    "             prw=data.get(e.lower())\n",
    "             if(ps==prw[0]):\n",
    "                 print(\"---Modification process Begin------\")\n",
    "                 np=str(input(\"Enter password :\"))\n",
    "                 nn=str(input(\"Enter Name :\"))\n",
    "                 nm=str(input(\"Enter Mobile number with code :\"))\n",
    "                 na=str(input(\"Enter Address :\"))\n",
    "                 data.update({e.lower():[np,nn,nm,na]})\n",
    "                 print(\" \")\n",
    "                 print(\"-----------Process Ended Sucessfully-------\")\n",
    "                 print(\"Changed Data is :---\")\n",
    "                 print(data[e.lower()])\n",
    "             else:\n",
    "                 print(\"Invalid Email\")\n",
    "         else:\n",
    "              print(\"Invalid password\")\n",
    "       \n",
    "    elif(ch==3):\n",
    "        print(\"---------------Account Del process begin--------------\")\n",
    "        e=str(input(\"Enter Email or User ID :\"))\n",
    "        data_key=data.keys()\n",
    "        if(e.lower() in data_key):\n",
    "            ps=str(input(\"Enter password :\"))\n",
    "            prw=data.get(e.lower())\n",
    "            if(ps==prw[0]):\n",
    "                data.pop(e.lower())\n",
    "                print(\" \")\n",
    "                print(\"-----------Process End-----------------------\")\n",
    "            else:\n",
    "                print(\"Invalid Email\")\n",
    "        else:\n",
    "            print(\"Invalid password\")\n",
    "    \n",
    "    elif(ch==4):\n",
    "        print(\"program end\")\n",
    "        break\n",
    "    else:\n",
    "        print(\"Enter Choice as Mention Above\")\n",
    "    \n",
    "\n",
    "print(data)\n"
   ]
  },
  {
   "cell_type": "code",
   "execution_count": null,
   "metadata": {},
   "outputs": [],
   "source": []
  }
 ],
 "metadata": {
  "kernelspec": {
   "display_name": "Python 3",
   "language": "python",
   "name": "python3"
  },
  "language_info": {
   "codemirror_mode": {
    "name": "ipython",
    "version": 3
   },
   "file_extension": ".py",
   "mimetype": "text/x-python",
   "name": "python",
   "nbconvert_exporter": "python",
   "pygments_lexer": "ipython3",
   "version": "3.7.1"
  }
 },
 "nbformat": 4,
 "nbformat_minor": 2
}
