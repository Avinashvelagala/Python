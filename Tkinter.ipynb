{
 "cells": [
  {
   "cell_type": "code",
   "execution_count": null,
   "metadata": {},
   "outputs": [],
   "source": [
    "Tkinter : Tkinter is pythons most common module to create GUI applications.\n",
    "An app can be created locally by using ot in a very wasy way.\n",
    "To create a tkinter app:\n",
    "1. import the module --- Tkinter\n",
    "2. create the main window(container)\n",
    "3. Add any number of widgets to the main window.\n",
    "4.Apply  the event trigger on the widget."
   ]
  },
  {
   "cell_type": "code",
   "execution_count": 1,
   "metadata": {},
   "outputs": [],
   "source": [
    "import tkinter"
   ]
  },
  {
   "cell_type": "code",
   "execution_count": null,
   "metadata": {},
   "outputs": [],
   "source": [
    "There are two main methods used which the user needs to remember.\n",
    "1. Tk --- To create a main window"
   ]
  },
  {
   "cell_type": "code",
   "execution_count": 2,
   "metadata": {},
   "outputs": [],
   "source": [
    "m = tkinter.Tk() #m is the name of main window object"
   ]
  },
  {
   "cell_type": "code",
   "execution_count": null,
   "metadata": {},
   "outputs": [],
   "source": [
    "2. mainloop() --- is an infinite loop used to run the application, wait for an event to occur and \n",
    "                 process the events as long as the window is not closed"
   ]
  },
  {
   "cell_type": "code",
   "execution_count": 3,
   "metadata": {},
   "outputs": [],
   "source": [
    "import tkinter\n",
    "m = tkinter.Tk()\n",
    "#\"Add widgets here..\"\n",
    "m.mainloop()"
   ]
  },
  {
   "cell_type": "code",
   "execution_count": null,
   "metadata": {},
   "outputs": [],
   "source": [
    "There are number of widgets whuch we can add in oor tkinter application:\n",
    "1. button: to add a button: w=Button(master,option= value)\n",
    "    master ---- parent window"
   ]
  },
  {
   "cell_type": "code",
   "execution_count": 6,
   "metadata": {},
   "outputs": [],
   "source": [
    "import tkinter as tk\n",
    "m = tkinter.Tk()\n",
    "m.title(\"counting.....\")\n",
    "button = tk.Button(m,text= \"stop\",width = 25,command= m.destroy)\n",
    "button.pack()\n",
    "#\"Add widgets here..\"\n",
    "m.mainloop()"
   ]
  },
  {
   "cell_type": "code",
   "execution_count": null,
   "metadata": {},
   "outputs": [],
   "source": [
    "2. CheckBox ----- checkButton\n",
    "syntax : w = CheckButton(master, option = value)"
   ]
  },
  {
   "cell_type": "code",
   "execution_count": 10,
   "metadata": {},
   "outputs": [],
   "source": [
    "from tkinter import *\n",
    "master = Tk() #master is the name of mainwindow"
   ]
  },
  {
   "cell_type": "code",
   "execution_count": 11,
   "metadata": {},
   "outputs": [],
   "source": [
    "var1 = IntVar()\n",
    "Checkbutton(master, text = \"male\" ,variable = var1).grid(row = 0)\n",
    "var2 = IntVar()\n",
    "Checkbutton(master, text = \"female\" ,variable = var2).grid(row = 1)\n",
    "mainloop()"
   ]
  },
  {
   "cell_type": "code",
   "execution_count": null,
   "metadata": {},
   "outputs": [],
   "source": [
    "3. Entry: it is used to input the single line text entry from the user\n",
    "    for multiline entry we have text widget."
   ]
  },
  {
   "cell_type": "code",
   "execution_count": 12,
   "metadata": {},
   "outputs": [],
   "source": [
    "from tkinter import *\n",
    "master = Tk()\n",
    "Label(master, text = \"First Name\").grid(row = 0)\n",
    "Label(master, text = \"Last Name\").grid(row = 1)\n",
    "e1 = Entry(master)\n",
    "e2 = Entry(master)\n",
    "e1.grid(row=0,column=1)\n",
    "e2.grid(row=1,column=1)\n",
    "mainloop()\n"
   ]
  },
  {
   "cell_type": "code",
   "execution_count": null,
   "metadata": {},
   "outputs": [],
   "source": [
    "4. Frame : It acts as a container to hold the widgets."
   ]
  },
  {
   "cell_type": "code",
   "execution_count": 14,
   "metadata": {},
   "outputs": [],
   "source": [
    "from tkinter import *\n",
    "master = Tk()\n",
    "frame = Frame(master)\n",
    "frame.pack()\n",
    "bottomframe = Frame(master)\n",
    "bottomframe.pack(side = BOTTOM)\n",
    "redbutton = Button(frame,text=\"Red\",fg=\"red\")\n",
    "redbutton.pack(side = LEFT)\n",
    "greenbutton = Button(frame,text=\"Green\",fg=\"green\")\n",
    "greenbutton.pack(side = LEFT)\n",
    "bluebutton = Button(frame,text=\"Blue\",fg=\"blue\")\n",
    "bluebutton.pack(side = LEFT)\n",
    "blackbutton = Button(frame,text=\"Black\",fg=\"black\")\n",
    "blackbutton.pack(side = BOTTOM)\n",
    "master.mainloop()\n"
   ]
  },
  {
   "cell_type": "code",
   "execution_count": null,
   "metadata": {},
   "outputs": [],
   "source": [
    "5. Listbox : it offers a list to users\n",
    "    w = Listbox(master,option=value)"
   ]
  },
  {
   "cell_type": "code",
   "execution_count": 15,
   "metadata": {},
   "outputs": [],
   "source": [
    "from tkinter import *\n",
    "master = Tk()\n",
    "lb = Listbox(master)\n",
    "lb.insert(1,\"python\")\n",
    "lb.insert(2,\"MachineLearning\")\n",
    "lb.insert(3,\"DataAnalytics\")\n",
    "lb.insert(4,\"DeepLearning\")\n",
    "lb.insert(5,\"R\")\n",
    "lb.pack()\n",
    "master.mainloop()\n"
   ]
  },
  {
   "cell_type": "code",
   "execution_count": null,
   "metadata": {},
   "outputs": [],
   "source": []
  }
 ],
 "metadata": {
  "kernelspec": {
   "display_name": "Python 3",
   "language": "python",
   "name": "python3"
  },
  "language_info": {
   "codemirror_mode": {
    "name": "ipython",
    "version": 3
   },
   "file_extension": ".py",
   "mimetype": "text/x-python",
   "name": "python",
   "nbconvert_exporter": "python",
   "pygments_lexer": "ipython3",
   "version": "3.7.1"
  }
 },
 "nbformat": 4,
 "nbformat_minor": 2
}
