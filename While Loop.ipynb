{
 "cells": [
  {
   "cell_type": "code",
   "execution_count": null,
   "metadata": {},
   "outputs": [],
   "source": [
    "While loop:\n",
    "In while loop we can execute a set of statements as long as a condition is true.\n",
    "The while loop requires relevant variables to be ready.\n",
    "    "
   ]
  },
  {
   "cell_type": "code",
   "execution_count": null,
   "metadata": {},
   "outputs": [],
   "source": [
    "Example: \n",
    "#add natural numbers upto .... n\n",
    "sum = 1 + 2 + 3 + 4.... +10"
   ]
  },
  {
   "cell_type": "code",
   "execution_count": 1,
   "metadata": {},
   "outputs": [
    {
     "name": "stdout",
     "output_type": "stream",
     "text": [
      "55\n"
     ]
    }
   ],
   "source": [
    "sum = 0\n",
    "for i in range(1,11):\n",
    "    sum = sum + i\n",
    "print(sum)"
   ]
  },
  {
   "cell_type": "code",
   "execution_count": 2,
   "metadata": {},
   "outputs": [
    {
     "name": "stdout",
     "output_type": "stream",
     "text": [
      " the sum is  55\n"
     ]
    }
   ],
   "source": [
    "n = 10\n",
    "#initialize the sum and counter\n",
    "sum = 0\n",
    "i = 1\n",
    "while i <= n:\n",
    "    sum = sum + i\n",
    "    i = i + 1 #update counter\n",
    "print(\" the sum is \" , sum)"
   ]
  },
  {
   "cell_type": "code",
   "execution_count": null,
   "metadata": {},
   "outputs": [],
   "source": [
    "Hint : Decrement the counter."
   ]
  },
  {
   "cell_type": "code",
   "execution_count": null,
   "metadata": {},
   "outputs": [],
   "source": [
    "practice 1: Take 10 integers from keyboard using loop and print their average value on the screen."
   ]
  },
  {
   "cell_type": "code",
   "execution_count": 4,
   "metadata": {},
   "outputs": [
    {
     "name": "stdout",
     "output_type": "stream",
     "text": [
      "Enter number \n",
      "1\n",
      "Enter number \n",
      "2\n",
      "Enter number \n",
      "3\n",
      "Enter number \n",
      "4\n",
      "Enter number \n",
      "5\n",
      "Enter number \n",
      "6\n",
      "Enter number \n",
      "7\n",
      "Enter number \n",
      "8\n",
      "Enter number \n",
      "9\n",
      "Enter number \n",
      "10\n",
      "average is 5.5\n"
     ]
    }
   ],
   "source": [
    "sum = 0\n",
    "i = 10\n",
    "while i >0:\n",
    "    print(\"Enter number \")\n",
    "    num = int(input( ))\n",
    "    sum = sum + num\n",
    "    i = i -1 \n",
    "print(\"average is\" , sum/10)"
   ]
  },
  {
   "cell_type": "code",
   "execution_count": null,
   "metadata": {},
   "outputs": [],
   "source": [
    "Factorial using while loop.\n",
    "5! = 5*4*3*2*1"
   ]
  },
  {
   "cell_type": "code",
   "execution_count": 5,
   "metadata": {},
   "outputs": [
    {
     "name": "stdout",
     "output_type": "stream",
     "text": [
      "5\n",
      "120\n"
     ]
    }
   ],
   "source": [
    "i=int(input(\"\"))\n",
    "fact=1\n",
    "while i>=1:\n",
    "    fact=i*fact\n",
    "    i=i-1\n",
    "print(fact)\n"
   ]
  },
  {
   "cell_type": "code",
   "execution_count": 6,
   "metadata": {},
   "outputs": [
    {
     "name": "stdout",
     "output_type": "stream",
     "text": [
      "Enter the number:5\n",
      "120\n"
     ]
    }
   ],
   "source": [
    "num=int(input(\"Enter the number:\"))\n",
    "fact=1\n",
    "i=1\n",
    "while i<=num:\n",
    "    fact=fact*i\n",
    "    i=i+1\n",
    "print(fact)\n"
   ]
  },
  {
   "cell_type": "code",
   "execution_count": 9,
   "metadata": {},
   "outputs": [
    {
     "name": "stdout",
     "output_type": "stream",
     "text": [
      "please enter a number : 4\n",
      "24\n"
     ]
    }
   ],
   "source": [
    "num = int(input(\"please enter a number : \"))\n",
    "fact = 1\n",
    "if num == 0:\n",
    "    print(1)\n",
    "else: \n",
    "    while num >=1:\n",
    "        fact = fact * num\n",
    "        num = num - 1\n",
    "    print(fact)"
   ]
  },
  {
   "cell_type": "code",
   "execution_count": null,
   "metadata": {},
   "outputs": [],
   "source": [
    "print multipication table of 24 using while loop.\n"
   ]
  },
  {
   "cell_type": "code",
   "execution_count": 13,
   "metadata": {},
   "outputs": [
    {
     "name": "stdout",
     "output_type": "stream",
     "text": [
      "Please enter a number to print its table 5\n",
      "5\n",
      "10\n",
      "15\n",
      "20\n",
      "25\n",
      "30\n",
      "35\n",
      "40\n",
      "45\n",
      "50\n"
     ]
    }
   ],
   "source": [
    "n = int(input(\"Please enter a number to print its table \"))\n",
    "i = 1\n",
    "while i<=10:\n",
    "    print(n * i)\n",
    "    i = i + 1"
   ]
  },
  {
   "cell_type": "code",
   "execution_count": 14,
   "metadata": {},
   "outputs": [
    {
     "name": "stdout",
     "output_type": "stream",
     "text": [
      "3\n",
      "5\n",
      "7\n",
      "9\n"
     ]
    }
   ],
   "source": [
    "i = 1\n",
    "while i < 9:\n",
    "    i = i + 2\n",
    "    print(i)"
   ]
  },
  {
   "cell_type": "code",
   "execution_count": 15,
   "metadata": {},
   "outputs": [
    {
     "name": "stdout",
     "output_type": "stream",
     "text": [
      "[4, 6, 8]\n"
     ]
    }
   ],
   "source": [
    "nums = []\n",
    "i = 4\n",
    "while i<9:\n",
    "    nums.append(i)\n",
    "    i = i +2\n",
    "print(nums)"
   ]
  },
  {
   "cell_type": "code",
   "execution_count": 16,
   "metadata": {},
   "outputs": [
    {
     "name": "stdout",
     "output_type": "stream",
     "text": [
      "4\n",
      "3\n",
      "Loop Ended\n"
     ]
    }
   ],
   "source": [
    "n = 5\n",
    "while n >0:\n",
    "    n = n -1\n",
    "    if n==2:\n",
    "        break\n",
    "    print(n)\n",
    "print(\"Loop Ended\")"
   ]
  },
  {
   "cell_type": "code",
   "execution_count": 19,
   "metadata": {},
   "outputs": [
    {
     "name": "stdout",
     "output_type": "stream",
     "text": [
      "4\n",
      "3\n",
      "1\n",
      "0\n",
      "-1\n",
      "Loop Ended\n"
     ]
    }
   ],
   "source": [
    "n = 5\n",
    "while n >=0:\n",
    "    n = n -1\n",
    "    if n==2:\n",
    "        continue\n",
    "    print(n)\n",
    "else:\n",
    "    print(\"Loop Ended\")"
   ]
  },
  {
   "cell_type": "code",
   "execution_count": null,
   "metadata": {},
   "outputs": [],
   "source": [
    "if condition with else \n",
    "Loops k sath bhi else hota h but the difference from if k sath wala else is\n",
    "that loops k sath jo else h wo humesha execute hoga no matter what\n"
   ]
  },
  {
   "cell_type": "code",
   "execution_count": 21,
   "metadata": {},
   "outputs": [],
   "source": [
    "a = [\"foo\" ,\"bar\" ,\"ashish\",\"deepak\"]\n",
    "s = \"deepak\"\n",
    "i = 0\n",
    "while i < len(a):\n",
    "    if a[i] == s:\n",
    "        break\n",
    "    i = i +1\n",
    "else:\n",
    "    print(s,\"not found in the list\")"
   ]
  },
  {
   "cell_type": "code",
   "execution_count": null,
   "metadata": {},
   "outputs": [],
   "source": [
    "A while loop in python is used for what type of iteration?\n",
    "1. discriminant\n",
    "2. indeterminate\n",
    "3. indefinite --- correct answer\n",
    "4. definite"
   ]
  },
  {
   "cell_type": "code",
   "execution_count": 23,
   "metadata": {},
   "outputs": [
    {
     "name": "stdout",
     "output_type": "stream",
     "text": [
      "Done.. \n"
     ]
    }
   ],
   "source": [
    "d = { \"sak\" : 1, \"khush\" : 2 , \"anj\" : 3}\n",
    "while len(d):\n",
    "    print(d.popitem())\n",
    "print(\"Done.. \")"
   ]
  },
  {
   "cell_type": "code",
   "execution_count": null,
   "metadata": {},
   "outputs": [
    {
     "name": "stdout",
     "output_type": "stream",
     "text": [
      "mayur\n",
      "deepak\n",
      "anj\n"
     ]
    }
   ],
   "source": [
    "a = [\"sak\",\"khush\",\"anj\",\"deepak\",\"mayur\"]\n",
    "while a:\n",
    "    if len(a)<3:\n",
    "        continue\n",
    "    print(a.pop())\n",
    "print(\"done\")\n"
   ]
  },
  {
   "cell_type": "code",
   "execution_count": 1,
   "metadata": {},
   "outputs": [
    {
     "name": "stdout",
     "output_type": "stream",
     "text": [
      "p\n",
      "y\n"
     ]
    }
   ],
   "source": [
    "for i in \"python\":\n",
    "    if i == \"t\":\n",
    "        break\n",
    "    print(i)\n",
    "print(\"now i am out of the loop\")"
   ]
  },
  {
   "cell_type": "code",
   "execution_count": 2,
   "metadata": {},
   "outputs": [
    {
     "name": "stdout",
     "output_type": "stream",
     "text": [
      "p\n",
      "y\n",
      "h\n",
      "o\n",
      "n\n",
      "now i m out of the for loop\n"
     ]
    }
   ],
   "source": [
    "for i in \"python\":\n",
    "    if i == \"t\":\n",
    "        continue\n",
    "    print(i)\n",
    "print(\"now i m out of the for loop\")"
   ]
  },
  {
   "cell_type": "code",
   "execution_count": null,
   "metadata": {},
   "outputs": [],
   "source": [
    "Enumerate function is used for the numbering or indexing yhe numbers in the list.\n",
    "suppose we want to do numbering in our months list."
   ]
  },
  {
   "cell_type": "code",
   "execution_count": 4,
   "metadata": {},
   "outputs": [
    {
     "name": "stdout",
     "output_type": "stream",
     "text": [
      "1 jan\n",
      "2 feb\n",
      "3 march\n",
      "4 april\n",
      "5 may\n",
      "6 june\n",
      "7 july\n"
     ]
    }
   ],
   "source": [
    "months = [\"jan\",\"feb\",\"march\",\"april\",\"may\",\"june\",'july']\n",
    "for i , m in enumerate(months,start = 1):\n",
    "    print(i,m)"
   ]
  },
  {
   "cell_type": "code",
   "execution_count": null,
   "metadata": {},
   "outputs": [],
   "source": []
  }
 ],
 "metadata": {
  "kernelspec": {
   "display_name": "Python 3",
   "language": "python",
   "name": "python3"
  },
  "language_info": {
   "codemirror_mode": {
    "name": "ipython",
    "version": 3
   },
   "file_extension": ".py",
   "mimetype": "text/x-python",
   "name": "python",
   "nbconvert_exporter": "python",
   "pygments_lexer": "ipython3",
   "version": "3.7.1"
  }
 },
 "nbformat": 4,
 "nbformat_minor": 2
}
