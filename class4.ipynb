{
 "cells": [
  {
   "cell_type": "markdown",
   "metadata": {},
   "source": [
    "# Conditional Statements "
   ]
  },
  {
   "cell_type": "code",
   "execution_count": null,
   "metadata": {},
   "outputs": [],
   "source": [
    "Programming often includes examining a set of conditions and deciding wih actions to take\n",
    "based on those conditions.\n",
    "Today we are going to learn how to write simple if statements and concept of indentation in python \n",
    "and then we will move towards complex if conditions."
   ]
  },
  {
   "cell_type": "code",
   "execution_count": 1,
   "metadata": {},
   "outputs": [
    {
     "data": {
      "text/plain": [
       "False"
      ]
     },
     "execution_count": 1,
     "metadata": {},
     "output_type": "execute_result"
    }
   ],
   "source": [
    "#check for equality\n",
    "\"car\" == \"bmw\""
   ]
  },
  {
   "cell_type": "code",
   "execution_count": 3,
   "metadata": {},
   "outputs": [
    {
     "data": {
      "text/plain": [
       "True"
      ]
     },
     "execution_count": 3,
     "metadata": {},
     "output_type": "execute_result"
    }
   ],
   "source": [
    "#check for inequality\n",
    "5 != 2"
   ]
  },
  {
   "cell_type": "code",
   "execution_count": 5,
   "metadata": {},
   "outputs": [
    {
     "data": {
      "text/plain": [
       "False"
      ]
     },
     "execution_count": 5,
     "metadata": {},
     "output_type": "execute_result"
    }
   ],
   "source": [
    "age1 = 20\n",
    "age2 = 15\n",
    "age1 >= 21 and age2 >= 16"
   ]
  },
  {
   "cell_type": "code",
   "execution_count": null,
   "metadata": {},
   "outputs": [],
   "source": [
    "IF Statement:\n",
    "At the heart of every if statement there is an expression that can be evaluated \n",
    "as True or False and it is known as Conditional Test.\n",
    "Python uses True and False to decide whether the code in an if statement \n",
    "should be executed or not.\n",
    "Syntax:\n",
    "if (condition)::\n",
    "    code you want to execute if condition is true."
   ]
  },
  {
   "cell_type": "code",
   "execution_count": null,
   "metadata": {},
   "outputs": [],
   "source": [
    "Indentation: is nothing but just the ammount of free space."
   ]
  },
  {
   "cell_type": "code",
   "execution_count": 12,
   "metadata": {},
   "outputs": [
    {
     "name": "stdout",
     "output_type": "stream",
     "text": [
      "Please enter your age : 23\n",
      " you are eligible to vote\n",
      "great\n",
      "welcome\n"
     ]
    }
   ],
   "source": [
    "age = int(input(\"Please enter your age : \"))\n",
    "if age >18:\n",
    "    print(\" you are eligible to vote\")\n",
    "    print(\"great\")\n",
    "else:\n",
    "    print(\" you are not eligible to vote\")\n",
    "    print(\"not great\")\n",
    "print(\"welcome\") #wgen this executed? # first unindent line \n",
    "                  # when if is true\n",
    "                  \n"
   ]
  },
  {
   "cell_type": "code",
   "execution_count": null,
   "metadata": {},
   "outputs": [],
   "source": [
    "Task1: Take values of length and breadth of a rectangle from user and check if it is\n",
    "    square or not."
   ]
  },
  {
   "cell_type": "code",
   "execution_count": null,
   "metadata": {},
   "outputs": [],
   "source": [
    "1. Take input from user - length, breadth\n",
    "2. if condition l == b\n",
    "True \n",
    "print(it is square)\n",
    "if not true -- else\n",
    "print(\" not a square\")"
   ]
  },
  {
   "cell_type": "code",
   "execution_count": 14,
   "metadata": {},
   "outputs": [
    {
     "name": "stdout",
     "output_type": "stream",
     "text": [
      "Please enter length :12\n",
      "Please enter breadth :10\n",
      "it is not a square\n"
     ]
    }
   ],
   "source": [
    "length = int(input(\"Please enter length :\"))\n",
    "Breadth =  int(input(\"Please enter breadth :\"))\n",
    "if length == Breadth:\n",
    "    print(\" it is a square \")\n",
    "else:\n",
    "    print(\"it is not a square\")"
   ]
  },
  {
   "cell_type": "code",
   "execution_count": null,
   "metadata": {},
   "outputs": [],
   "source": [
    "Task 2: Take three values from user and print largest among them."
   ]
  },
  {
   "cell_type": "code",
   "execution_count": 17,
   "metadata": {},
   "outputs": [
    {
     "name": "stdout",
     "output_type": "stream",
     "text": [
      "enter 1st number:24\n",
      "enter 2nd number:24\n",
      "24\n"
     ]
    }
   ],
   "source": [
    "a= int(input(\"enter 1st number:\"))\n",
    "b= int(input(\"enter 2nd number:\"))\n",
    "c = int(input(\"enter 3rd number :\"))\n",
    "if a> b and a >c\n",
    "    print(a)\n",
    "else:\n",
    "    print(b)\n"
   ]
  },
  {
   "cell_type": "code",
   "execution_count": 18,
   "metadata": {},
   "outputs": [
    {
     "name": "stdout",
     "output_type": "stream",
     "text": [
      "enter 1st number:15\n",
      "enter 2nd number:10\n",
      "enter 3rd number:8\n",
      "15\n",
      "8\n"
     ]
    }
   ],
   "source": [
    "a= int(input(\"enter 1st number:\"))\n",
    "b= int(input(\"enter 2nd number:\"))\n",
    "c= int(input(\"enter 3rd number:\"))\n",
    "if a>b>c:\n",
    "    print(a)\n",
    "if b>a>c:\n",
    "    print(b)\n",
    "else:\n",
    "    print(c)\n"
   ]
  },
  {
   "cell_type": "code",
   "execution_count": 19,
   "metadata": {},
   "outputs": [
    {
     "name": "stdout",
     "output_type": "stream",
     "text": [
      "101\n"
     ]
    }
   ],
   "source": [
    "if True:\n",
    "    print(101)\n",
    "else:\n",
    "    print(102)"
   ]
  },
  {
   "cell_type": "code",
   "execution_count": 21,
   "metadata": {},
   "outputs": [
    {
     "name": "stdout",
     "output_type": "stream",
     "text": [
      "???\n"
     ]
    }
   ],
   "source": [
    "if 0 :\n",
    "    print('1 is truth')\n",
    "else:\n",
    "    print(\"???\")"
   ]
  },
  {
   "cell_type": "code",
   "execution_count": 25,
   "metadata": {},
   "outputs": [
    {
     "name": "stdout",
     "output_type": "stream",
     "text": [
      "True\n"
     ]
    }
   ],
   "source": [
    "a , b = \"10\",\"cetpa\"\n",
    "if a+b:\n",
    "    print(\"True\")\n",
    "else:\n",
    "    print(\"false\")\n",
    "    "
   ]
  },
  {
   "cell_type": "code",
   "execution_count": null,
   "metadata": {},
   "outputs": [],
   "source": [
    "Task3: A company decided to give bonus of 5% to emp if his/her sal is more than 25k and\n",
    "    year of service is more than 3 yrs. Ask user for their sal and y.o.s and print net bonus ammout\n",
    "    and new sal\n"
   ]
  },
  {
   "cell_type": "code",
   "execution_count": null,
   "metadata": {},
   "outputs": [],
   "source": [
    "1. take input user sal and yoexp\n",
    "2. condition : sal >25000 and yoexp >3\n",
    "3. bonus = 5% of sal\n",
    "         5/100 * sal\n",
    "4. print(bonus)\n",
    "5. new sal = bonus + sal\n",
    "6. print(new sal)\n",
    "7. if condition is false\n",
    "8. print(\" you are not eligible for bonus\")"
   ]
  },
  {
   "cell_type": "code",
   "execution_count": 27,
   "metadata": {},
   "outputs": [
    {
     "name": "stdout",
     "output_type": "stream",
     "text": [
      "Please enter your current salary: 20000\n",
      "Please enter your work experiene: 4\n",
      "Sorry, you are not eligible for Bonus\n"
     ]
    }
   ],
   "source": [
    "sal = float(input(\"Please enter your current salary: \"))\n",
    "y_x_p = float(input(\"Please enter your work experiene: \"))\n",
    "if sal>25000 and y_x_p >3: #here we are checking conditions\n",
    "    bonus = (5/100) * sal #calculating bonus\n",
    "    print(\"whoa!! your bonus amount is \" , bonus)\n",
    "    new_sal = bonus + sal #calculating new salary\n",
    "    print(\"your new sal is\" , new_sal)\n",
    "else:\n",
    "    print(\"Sorry, you are not eligible for Bonus\")"
   ]
  },
  {
   "cell_type": "code",
   "execution_count": null,
   "metadata": {},
   "outputs": [],
   "source": [
    "Task 4: u need to check either the number is odd or even by taking input rom\n",
    "    user.\n",
    "HW: Task 5: you have to tell either the year is leap or not and input is no of days in a year from \n",
    "    year."
   ]
  },
  {
   "cell_type": "code",
   "execution_count": 29,
   "metadata": {},
   "outputs": [
    {
     "name": "stdout",
     "output_type": "stream",
     "text": [
      "Enter your number7\n",
      "it is an odd number\n"
     ]
    }
   ],
   "source": [
    "a = int(input(\"Enter your number\"))\n",
    "if a%2 == 0:\n",
    "    print(\"It is a even number\")\n",
    "else:\n",
    "    print(\"it is an odd number\")"
   ]
  },
  {
   "cell_type": "markdown",
   "metadata": {},
   "source": [
    "# Python if-else in one line"
   ]
  },
  {
   "cell_type": "code",
   "execution_count": null,
   "metadata": {},
   "outputs": [],
   "source": [
    "Python provides a way to shorten an if/else statement to one line.\n",
    "Syntax:\n",
    "value_on_true if condition else value_on_false"
   ]
  },
  {
   "cell_type": "code",
   "execution_count": 31,
   "metadata": {},
   "outputs": [],
   "source": [
    "num = 4"
   ]
  },
  {
   "cell_type": "code",
   "execution_count": 32,
   "metadata": {},
   "outputs": [
    {
     "data": {
      "text/plain": [
       "'Even'"
      ]
     },
     "execution_count": 32,
     "metadata": {},
     "output_type": "execute_result"
    }
   ],
   "source": [
    "\"Even\" if num%2 == 0 else \"odd\""
   ]
  },
  {
   "cell_type": "code",
   "execution_count": 33,
   "metadata": {},
   "outputs": [
    {
     "data": {
      "text/plain": [
       "'odd'"
      ]
     },
     "execution_count": 33,
     "metadata": {},
     "output_type": "execute_result"
    }
   ],
   "source": [
    "num = 5\n",
    "\"Even\" if num%2 == 0 else \"odd\""
   ]
  },
  {
   "cell_type": "code",
   "execution_count": 36,
   "metadata": {},
   "outputs": [
    {
     "data": {
      "text/plain": [
       "12"
      ]
     },
     "execution_count": 36,
     "metadata": {},
     "output_type": "execute_result"
    }
   ],
   "source": [
    "#print greatest among two numbers\n",
    "a = 10\n",
    "b = 12\n",
    "a if a>b else b\n"
   ]
  },
  {
   "cell_type": "code",
   "execution_count": 35,
   "metadata": {},
   "outputs": [
    {
     "data": {
      "text/plain": [
       "'12'"
      ]
     },
     "execution_count": 35,
     "metadata": {},
     "output_type": "execute_result"
    }
   ],
   "source": [
    "a=10\n",
    "b=12\n",
    "\"10\" if a>b else \"12\""
   ]
  },
  {
   "cell_type": "code",
   "execution_count": null,
   "metadata": {},
   "outputs": [],
   "source": [
    "A school has following rules for grading sys:\n",
    "a.Below 25 - fail\n",
    "b. 25 to 45 - E\n",
    "c.45 to 50 - D\n",
    "d.50 to 60 - C\n",
    "e.60 to 80 - B\n",
    "f. Above 80 -  A\n",
    "Ask user to enter marks and print the corresponding grade."
   ]
  }
 ],
 "metadata": {
  "kernelspec": {
   "display_name": "Python 3",
   "language": "python",
   "name": "python3"
  },
  "language_info": {
   "codemirror_mode": {
    "name": "ipython",
    "version": 3
   },
   "file_extension": ".py",
   "mimetype": "text/x-python",
   "name": "python",
   "nbconvert_exporter": "python",
   "pygments_lexer": "ipython3",
   "version": "3.7.1"
  }
 },
 "nbformat": 4,
 "nbformat_minor": 2
}
